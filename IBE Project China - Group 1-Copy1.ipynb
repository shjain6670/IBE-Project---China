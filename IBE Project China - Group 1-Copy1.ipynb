{
 "cells": [
  {
   "cell_type": "markdown",
   "metadata": {},
   "source": [
    "<H1 align=\"center\"><span style=\"font-weight:30px;margin-left:60px\"><I><B>IBE Project - Group 1</B></I></span></H1>\n",
    "<hr style=\"width:30%; \n",
    "    border: none;\n",
    "    border-top: medium double white;\n",
    "    color: darkblue;\n",
    "    text-align: center; border-width: 6px;\">\n",
    "    \n",
    "    \n",
    "    \n",
    "    \n",
    "   <h2 align=\"right\"><b>Submitted By:</b></h2>\n",
    " <h3 align=\"right\",style=\"background-color:darkblue;color:white\"> Aman Shukla(402)<br>\n",
    "    Shubham Jain(405)<br>\n",
    "    Aman Chauhan(409)<br>\n",
    "    Parthi Gangvany(412)<br>\n",
    "    Arushma Singh(418)<br></h3>"
   ]
  },
  {
   "cell_type": "markdown",
   "metadata": {},
   "source": [
    "# KEY FINDINGS\n",
    "\n",
    "- Electrical Machinery, appar, parts, nes has continually remained the most elevated imported item of China all through 2010-2018 with a slight decline in 2016 from 138B in 2015 to 130B and again expanding in 2017 to 150B. \n",
    "\n",
    "- The general imports expanded in 2012 while diminished in 2015.\n",
    "\n",
    "- The electrical hardware is one of the top ware of China whose fare is expanding each year with a slight reduction in 2016. \n",
    "\n",
    "- In view of the normal conversion scale for 2019, the Chinese yuan devalued by - 10.9% against the US dollar since 2015 and declined by - 4.4% from 2018 to 2019. \n",
    "\n",
    "- The Chinese economy is developing in the worldwide worth chain and creating capital concentrated, mechanical items \n",
    "\n",
    "- The Chinese parts industry is divided and involves both Chinese and unfamiliar parts producers, including numerous U.S.- based organizations. As per U.S. government information, about 25% of China's automobile parts creation is traded, including to the United States, where more than $14 billion in parts from China were imported in 2012, a 60% expansion since 2008. \n",
    "\n",
    "- Different joint endeavors with neighborhood chinese automakers have constrained the co-accomplice unfamiliar automobile creators like Daimler and GE to move their innovation to them. \n",
    "\n",
    "- China is second biggest shopper of OIL. This can likewise be seen from expanded utilization of OIL by China in May, 2020 which was viewed as China recouping from the effect of Covid - 19.\n",
    "\n",
    "- Geographical, Cultural, Technological and Government Policy Factors influence ITI of China in various products the most\n",
    "\n"
   ]
  },
  {
   "cell_type": "code",
   "execution_count": 39,
   "metadata": {},
   "outputs": [
    {
     "data": {
      "text/html": [
       "<script>\n",
       "code_show=true; \n",
       "function code_toggle() {\n",
       " if (code_show){\n",
       " $('div.input').hide();\n",
       " } else {\n",
       " $('div.input').show();\n",
       " }\n",
       " code_show = !code_show\n",
       "} \n",
       "$( document ).ready(code_toggle);\n",
       "</script>\n",
       "<form action=\"javascript:code_toggle()\"><input type=\"submit\" value=\"Click here to toggle on/off the raw code.\"></form>"
      ],
      "text/plain": [
       "<IPython.core.display.HTML object>"
      ]
     },
     "execution_count": 39,
     "metadata": {},
     "output_type": "execute_result"
    }
   ],
   "source": [
    "import numpy as np\n",
    "import pandas as pd\n",
    "import ipywidgets as widgets\n",
    "import matplotlib as mpl\n",
    "import matplotlib.pyplot as plt\n",
    "import plotly.express as px\n",
    "import plotly.figure_factory as ff\n",
    "from plotly.subplots import make_subplots\n",
    "import plotly.graph_objects as go\n",
    "from IPython.display import HTML, Image\n",
    "\n",
    "HTML('''<script>\n",
    "code_show=true; \n",
    "function code_toggle() {\n",
    " if (code_show){\n",
    " $('div.input').hide();\n",
    " } else {\n",
    " $('div.input').show();\n",
    " }\n",
    " code_show = !code_show\n",
    "} \n",
    "$( document ).ready(code_toggle);\n",
    "</script>\n",
    "<form action=\"javascript:code_toggle()\"><input type=\"submit\" value=\"Click here to toggle on/off the raw code.\"></form>''')"
   ]
  },
  {
   "cell_type": "markdown",
   "metadata": {},
   "source": [
    "# Importing Data\n",
    "\n",
    "First 20 records of trade of China from 2010 - 2018 has been shown below. The dataset has been taken from UN Comtrade for SITC Rev. 3 Digit 2 Product Categories."
   ]
  },
  {
   "cell_type": "code",
   "execution_count": 2,
   "metadata": {},
   "outputs": [
    {
     "data": {
      "text/html": [
       "<div>\n",
       "<style scoped>\n",
       "    .dataframe tbody tr th:only-of-type {\n",
       "        vertical-align: middle;\n",
       "    }\n",
       "\n",
       "    .dataframe tbody tr th {\n",
       "        vertical-align: top;\n",
       "    }\n",
       "\n",
       "    .dataframe thead th {\n",
       "        text-align: right;\n",
       "    }\n",
       "</style>\n",
       "<table border=\"1\" class=\"dataframe\">\n",
       "  <thead>\n",
       "    <tr style=\"text-align: right;\">\n",
       "      <th></th>\n",
       "      <th>Export</th>\n",
       "      <th>Import</th>\n",
       "      <th>Year</th>\n",
       "      <th>Partner</th>\n",
       "      <th>Commodity</th>\n",
       "    </tr>\n",
       "  </thead>\n",
       "  <tbody>\n",
       "    <tr>\n",
       "      <th>0</th>\n",
       "      <td>7.181210e+05</td>\n",
       "      <td>1.825270e+08</td>\n",
       "      <td>2010</td>\n",
       "      <td>Australia</td>\n",
       "      <td>Animal oils and fats</td>\n",
       "    </tr>\n",
       "    <tr>\n",
       "      <th>1</th>\n",
       "      <td>2.253221e+06</td>\n",
       "      <td>5.269600e+04</td>\n",
       "      <td>2010</td>\n",
       "      <td>Australia</td>\n",
       "      <td>Animal or vegetable fats and oils, processed; ...</td>\n",
       "    </tr>\n",
       "    <tr>\n",
       "      <th>2</th>\n",
       "      <td>2.864312e+09</td>\n",
       "      <td>1.066262e+06</td>\n",
       "      <td>2010</td>\n",
       "      <td>Australia</td>\n",
       "      <td>Articles of apparel and clothing accessories</td>\n",
       "    </tr>\n",
       "    <tr>\n",
       "      <th>3</th>\n",
       "      <td>9.981302e+06</td>\n",
       "      <td>1.502436e+08</td>\n",
       "      <td>2010</td>\n",
       "      <td>Australia</td>\n",
       "      <td>Beverages</td>\n",
       "    </tr>\n",
       "    <tr>\n",
       "      <th>4</th>\n",
       "      <td>3.724094e+07</td>\n",
       "      <td>5.261588e+08</td>\n",
       "      <td>2010</td>\n",
       "      <td>Australia</td>\n",
       "      <td>Cereals and cereal preparations</td>\n",
       "    </tr>\n",
       "    <tr>\n",
       "      <th>5</th>\n",
       "      <td>2.417715e+08</td>\n",
       "      <td>4.349377e+07</td>\n",
       "      <td>2010</td>\n",
       "      <td>Australia</td>\n",
       "      <td>Chemical materials and products, n.e.s.</td>\n",
       "    </tr>\n",
       "    <tr>\n",
       "      <th>6</th>\n",
       "      <td>1.348614e+07</td>\n",
       "      <td>5.447438e+09</td>\n",
       "      <td>2010</td>\n",
       "      <td>Australia</td>\n",
       "      <td>Coal, coke and briquettes</td>\n",
       "    </tr>\n",
       "    <tr>\n",
       "      <th>7</th>\n",
       "      <td>1.627098e+07</td>\n",
       "      <td>2.838166e+06</td>\n",
       "      <td>2010</td>\n",
       "      <td>Australia</td>\n",
       "      <td>Coffee, tea, cocoa, spices, and manufactures t...</td>\n",
       "    </tr>\n",
       "    <tr>\n",
       "      <th>8</th>\n",
       "      <td>NaN</td>\n",
       "      <td>1.187987e+06</td>\n",
       "      <td>2010</td>\n",
       "      <td>Australia</td>\n",
       "      <td>Coin (other than gold coin), not being legal t...</td>\n",
       "    </tr>\n",
       "    <tr>\n",
       "      <th>9</th>\n",
       "      <td>3.224053e+07</td>\n",
       "      <td>2.828391e+08</td>\n",
       "      <td>2010</td>\n",
       "      <td>Australia</td>\n",
       "      <td>Cork and wood</td>\n",
       "    </tr>\n",
       "    <tr>\n",
       "      <th>10</th>\n",
       "      <td>1.465122e+08</td>\n",
       "      <td>2.152922e+07</td>\n",
       "      <td>2010</td>\n",
       "      <td>Australia</td>\n",
       "      <td>Cork and wood manufactures (excluding furniture)</td>\n",
       "    </tr>\n",
       "    <tr>\n",
       "      <th>11</th>\n",
       "      <td>1.196296e+07</td>\n",
       "      <td>2.747951e+07</td>\n",
       "      <td>2010</td>\n",
       "      <td>Australia</td>\n",
       "      <td>Crude animal and vegetable materials, n.e.s.</td>\n",
       "    </tr>\n",
       "    <tr>\n",
       "      <th>12</th>\n",
       "      <td>1.723864e+07</td>\n",
       "      <td>1.502735e+08</td>\n",
       "      <td>2010</td>\n",
       "      <td>Australia</td>\n",
       "      <td>Crude fertilizers, other than those of Divisio...</td>\n",
       "    </tr>\n",
       "    <tr>\n",
       "      <th>13</th>\n",
       "      <td>4.001158e+06</td>\n",
       "      <td>1.165313e+06</td>\n",
       "      <td>2010</td>\n",
       "      <td>Australia</td>\n",
       "      <td>Crude rubber (including synthetic and reclaimed)</td>\n",
       "    </tr>\n",
       "    <tr>\n",
       "      <th>14</th>\n",
       "      <td>9.288204e+06</td>\n",
       "      <td>1.277485e+08</td>\n",
       "      <td>2010</td>\n",
       "      <td>Australia</td>\n",
       "      <td>Dairy products and birds’ eggs</td>\n",
       "    </tr>\n",
       "    <tr>\n",
       "      <th>15</th>\n",
       "      <td>4.221529e+07</td>\n",
       "      <td>1.603541e+08</td>\n",
       "      <td>2010</td>\n",
       "      <td>Australia</td>\n",
       "      <td>Dyeing, tanning and colouring materials</td>\n",
       "    </tr>\n",
       "    <tr>\n",
       "      <th>16</th>\n",
       "      <td>2.636727e+09</td>\n",
       "      <td>8.313093e+07</td>\n",
       "      <td>2010</td>\n",
       "      <td>Australia</td>\n",
       "      <td>Electrical machinery, apparatus and appliances...</td>\n",
       "    </tr>\n",
       "    <tr>\n",
       "      <th>17</th>\n",
       "      <td>1.003067e+08</td>\n",
       "      <td>2.296976e+07</td>\n",
       "      <td>2010</td>\n",
       "      <td>Australia</td>\n",
       "      <td>Essential oils and resinoids and perfume mater...</td>\n",
       "    </tr>\n",
       "    <tr>\n",
       "      <th>18</th>\n",
       "      <td>1.321670e+07</td>\n",
       "      <td>5.849837e+07</td>\n",
       "      <td>2010</td>\n",
       "      <td>Australia</td>\n",
       "      <td>Feeding stuff for animals (not including unmil...</td>\n",
       "    </tr>\n",
       "    <tr>\n",
       "      <th>19</th>\n",
       "      <td>1.443191e+08</td>\n",
       "      <td>5.014100e+04</td>\n",
       "      <td>2010</td>\n",
       "      <td>Australia</td>\n",
       "      <td>Fertilizers (other than those of group 272)</td>\n",
       "    </tr>\n",
       "  </tbody>\n",
       "</table>\n",
       "</div>"
      ],
      "text/plain": [
       "          Export        Import  Year    Partner  \\\n",
       "0   7.181210e+05  1.825270e+08  2010  Australia   \n",
       "1   2.253221e+06  5.269600e+04  2010  Australia   \n",
       "2   2.864312e+09  1.066262e+06  2010  Australia   \n",
       "3   9.981302e+06  1.502436e+08  2010  Australia   \n",
       "4   3.724094e+07  5.261588e+08  2010  Australia   \n",
       "5   2.417715e+08  4.349377e+07  2010  Australia   \n",
       "6   1.348614e+07  5.447438e+09  2010  Australia   \n",
       "7   1.627098e+07  2.838166e+06  2010  Australia   \n",
       "8            NaN  1.187987e+06  2010  Australia   \n",
       "9   3.224053e+07  2.828391e+08  2010  Australia   \n",
       "10  1.465122e+08  2.152922e+07  2010  Australia   \n",
       "11  1.196296e+07  2.747951e+07  2010  Australia   \n",
       "12  1.723864e+07  1.502735e+08  2010  Australia   \n",
       "13  4.001158e+06  1.165313e+06  2010  Australia   \n",
       "14  9.288204e+06  1.277485e+08  2010  Australia   \n",
       "15  4.221529e+07  1.603541e+08  2010  Australia   \n",
       "16  2.636727e+09  8.313093e+07  2010  Australia   \n",
       "17  1.003067e+08  2.296976e+07  2010  Australia   \n",
       "18  1.321670e+07  5.849837e+07  2010  Australia   \n",
       "19  1.443191e+08  5.014100e+04  2010  Australia   \n",
       "\n",
       "                                            Commodity  \n",
       "0                                Animal oils and fats  \n",
       "1   Animal or vegetable fats and oils, processed; ...  \n",
       "2        Articles of apparel and clothing accessories  \n",
       "3                                           Beverages  \n",
       "4                     Cereals and cereal preparations  \n",
       "5             Chemical materials and products, n.e.s.  \n",
       "6                           Coal, coke and briquettes  \n",
       "7   Coffee, tea, cocoa, spices, and manufactures t...  \n",
       "8   Coin (other than gold coin), not being legal t...  \n",
       "9                                       Cork and wood  \n",
       "10   Cork and wood manufactures (excluding furniture)  \n",
       "11       Crude animal and vegetable materials, n.e.s.  \n",
       "12  Crude fertilizers, other than those of Divisio...  \n",
       "13   Crude rubber (including synthetic and reclaimed)  \n",
       "14                     Dairy products and birds’ eggs  \n",
       "15            Dyeing, tanning and colouring materials  \n",
       "16  Electrical machinery, apparatus and appliances...  \n",
       "17  Essential oils and resinoids and perfume mater...  \n",
       "18  Feeding stuff for animals (not including unmil...  \n",
       "19        Fertilizers (other than those of group 272)  "
      ]
     },
     "execution_count": 2,
     "metadata": {},
     "output_type": "execute_result"
    }
   ],
   "source": [
    "trade = pd.read_excel('Final Trade2.xlsx')\n",
    "trade.head(20)"
   ]
  },
  {
   "cell_type": "code",
   "execution_count": 3,
   "metadata": {},
   "outputs": [],
   "source": [
    "trade.fillna(0, inplace=True)"
   ]
  },
  {
   "cell_type": "markdown",
   "metadata": {},
   "source": [
    "# Trade Linkages\n",
    "\n",
    "- Understand if there is a change in the major export or import items in its trade basket over the past few years\n",
    "- Identify whether its trading partners has changed over the last few years\n",
    "- Look at why there is change in the trading pattern"
   ]
  },
  {
   "cell_type": "markdown",
   "metadata": {},
   "source": [
    "## Analyzing Imports of China"
   ]
  },
  {
   "cell_type": "code",
   "execution_count": 47,
   "metadata": {},
   "outputs": [],
   "source": [
    "def plot_imports(year):\n",
    "    df = trade[trade.Year == year].groupby('Commodity').sum().reset_index()\n",
    "    df = df.sort_values(by= 'Import', ascending=False).head(10)\n",
    "    title = \"<B>Top 10 Imports (\" + str(year) + \")</B>\"\n",
    "    fig = px.bar(df, x='Commodity', y='Import', title=title)\n",
    "    fig.update_layout(\n",
    "    title={\n",
    "        'y':0.9,\n",
    "        'x':0.35,\n",
    "        'xanchor': 'center',\n",
    "        'yanchor': 'top'},\n",
    "    height=550,\n",
    "    width = 1200)\n",
    "    fig.update_xaxes(title_text='', tickfont=dict(family='Rockwell', color='crimson', size=12))\n",
    "    fig.show()"
   ]
  },
  {
   "cell_type": "code",
   "execution_count": 49,
   "metadata": {},
   "outputs": [
    {
     "data": {
      "application/vnd.jupyter.widget-view+json": {
       "model_id": "c372cd55d827425694cb250f50407b76",
       "version_major": 2,
       "version_minor": 0
      },
      "text/plain": [
       "interactive(children=(IntSlider(value=2014, description='year', max=2018, min=2010), Output()), _dom_classes=(…"
      ]
     },
     "metadata": {},
     "output_type": "display_data"
    },
    {
     "data": {
      "text/plain": [
       "<function __main__.plot_imports(year)>"
      ]
     },
     "execution_count": 49,
     "metadata": {},
     "output_type": "execute_result"
    }
   ],
   "source": [
    "widgets.interact(plot_imports, year=(2010, 2018, 1))"
   ]
  },
  {
   "cell_type": "markdown",
   "metadata": {},
   "source": [
    "6 Major Imports Throughout 2010 - 2018:\n",
    "1. ELEC MCH APPAR, PARTS, NES\n",
    "2. ROAD VEHICLES\n",
    "3. METALLIFEROUS ORE, SCRAP\n",
    "4. SCIENTIFIC EQUIPMENT NES\n",
    "5. PETROLEUM, PETROL.PRODUCT\n",
    "6. SPECIAL.INDUST.MACHINERY."
   ]
  },
  {
   "cell_type": "markdown",
   "metadata": {},
   "source": [
    "# <u>Import Trends of China</u>\n",
    "\n",
    "- Electrical Machinery, appar, parts, nes has constantly remained the highest imported commodity of China throughout 2010-2018 with a slight decrease in 2016 from 138B in 2015 to 130B and again increasing in 2017 to 150B.\n",
    "\n",
    "- Metalliferous ores and metal scrap is the second highest commodity to be imported in China but in 2016 its import decreased slightly and road vehicles became the second highest in 2016.\n",
    "\n",
    "- Petroleum Commodity highly increased in 2018 from 40B to 62B.\n",
    "\n",
    "- In 2016 the import of metalliferous ore and metal scrap decreased while being 2nd highest import from 2010-2015. And after 2016 again became the second highest import.\n",
    "\n",
    "- The overall imports increased in 2012 while decreased in 2015."
   ]
  },
  {
   "cell_type": "markdown",
   "metadata": {},
   "source": [
    "## Analyzing Exports of China"
   ]
  },
  {
   "cell_type": "code",
   "execution_count": 50,
   "metadata": {},
   "outputs": [],
   "source": [
    "def plot_exports(year):\n",
    "    df = trade[trade.Year == year].groupby('Commodity').sum().reset_index()\n",
    "    df = df.sort_values(by= 'Export', ascending=False).head(10)\n",
    "    title = \"<B>Top 10 Exports (\" + str(year) + \")</B>\"\n",
    "    fig = px.bar(df, x='Commodity', y='Export', title=title)\n",
    "    fig.update_layout(\n",
    "    title={\n",
    "        'y':0.9,\n",
    "        'x':0.35,\n",
    "        'xanchor': 'center',\n",
    "        'yanchor': 'top'},\n",
    "    height=550,\n",
    "    width = 1200)\n",
    "    fig.update_xaxes(title_text='', tickfont=dict(family='Rockwell', color='crimson', size=12))\n",
    "    fig.show()  "
   ]
  },
  {
   "cell_type": "code",
   "execution_count": 51,
   "metadata": {},
   "outputs": [
    {
     "data": {
      "application/vnd.jupyter.widget-view+json": {
       "model_id": "f7a14fd27d7a4688b8fb56df7caae469",
       "version_major": 2,
       "version_minor": 0
      },
      "text/plain": [
       "interactive(children=(IntSlider(value=2014, description='year', max=2018, min=2010), Output()), _dom_classes=(…"
      ]
     },
     "metadata": {},
     "output_type": "display_data"
    },
    {
     "data": {
      "text/plain": [
       "<function __main__.plot_exports(year)>"
      ]
     },
     "execution_count": 51,
     "metadata": {},
     "output_type": "execute_result"
    }
   ],
   "source": [
    "widgets.interact(plot_exports, year=(2010, 2018, 1))"
   ]
  },
  {
   "cell_type": "markdown",
   "metadata": {},
   "source": [
    "6 Major Exports Throughout 2010 - 2018:\n",
    "1. OFFICE MACHINES, ADP MACH\n",
    "2. TELECOMM.SOUND EQUIP ETC\n",
    "3. ELEC MCH APPAR, PARTS, NES\n",
    "4. CLOTHING AND ACCESSARIES\n",
    "5. MISC MANUFCTRD GOODS NES\n",
    "6. TEXTILE YARN, FABRIC, ETC"
   ]
  },
  {
   "cell_type": "markdown",
   "metadata": {},
   "source": [
    "# <u>Export Trends of China</u>\n",
    "\n",
    "- The office machines commodity was the top export of China in 2010 but in 2011 it came into 2nd position and its export declined since then till 2016.\n",
    "\n",
    "- The telecommunication is the top exported commodity since 2011 with the gradual increase, its export was decreased in 2016 but again increased in 2017.\n",
    "\n",
    "- The electrical machinery is one of the top commodity of China whose export is increasing every year with a slight decrease in 2016.\n",
    "\n",
    "- The export of textile yarn, fabrics decreased gradually as china shifted from the labour intensive production to technology intensive production.\n"
   ]
  },
  {
   "cell_type": "markdown",
   "metadata": {},
   "source": [
    "# <u>Trading Pattern of China</u>\n",
    "\n",
    "### 1. China imports as well as exports the electrical machinery products, being one of the top products since 2010 with the exports being higher than imports.\n",
    "\n",
    "- This is because half of China’s foreign trade is fostered by assembly and processing of imported inputs for re-export since the early 1990s. This is served as the reason for [China’s rapid diversification to electrical machinery.](http://www.diva-portal.org/smash/get/diva2:447884/FULLTEXT01)\n",
    "\n",
    "\n",
    "### 2. The import of general industrial machinery is very less in comparison to export in the whole time period.\n",
    "\n",
    "### 3. In 2012, Exports in Telecomm. Sound Equip increased and it's import decreased.\n",
    "\n",
    "### 4. [The overall import and export of China declined in 2015-16 period due to following reasons:](https://www.americanexpress.com/us/foreign-exchange/articles/economic-effects-of-china-economic-slowdown-on-import-export-trade/)\n",
    "\n",
    "- The domestic investment weakend which accounts for about 40-to-50 percent of the fall in imports.\n",
    "- Weaker exports account for about 40 percent of the fall in imports.\n",
    "- Part of China’s import-export trade slowdown was due to weak global demand for its exports, which in turn reduced China’s demand for imports as inputs to production."
   ]
  },
  {
   "cell_type": "markdown",
   "metadata": {},
   "source": [
    "## Major Importers of China"
   ]
  },
  {
   "cell_type": "code",
   "execution_count": 79,
   "metadata": {},
   "outputs": [],
   "source": [
    "def plot_importers(year):\n",
    "    df = trade[trade.Year == year].groupby('Partner').sum().reset_index()\n",
    "    df = df.sort_values(by= 'Import', ascending=False).head(10)\n",
    "    title = \"<B>Top 10 Import Partners of China (\" + str(year) + \")</B>\"\n",
    "    fig = px.bar(df, x='Partner', y='Import', title=title)\n",
    "    fig.update_layout(\n",
    "    title={\n",
    "        'y':0.9,\n",
    "        'x':0.5,\n",
    "        'xanchor': 'center',\n",
    "        'yanchor': 'top'})\n",
    "    fig.update_xaxes(title_text='Partner', tickfont=dict(family='Rockwell', color='crimson', size=14), tickangle=30)\n",
    "    fig.show() "
   ]
  },
  {
   "cell_type": "code",
   "execution_count": 80,
   "metadata": {},
   "outputs": [
    {
     "data": {
      "application/vnd.jupyter.widget-view+json": {
       "model_id": "14b52aa4133f4182adf05a7a0fbba663",
       "version_major": 2,
       "version_minor": 0
      },
      "text/plain": [
       "interactive(children=(IntSlider(value=2014, description='year', max=2018, min=2010), Output()), _dom_classes=(…"
      ]
     },
     "metadata": {},
     "output_type": "display_data"
    },
    {
     "data": {
      "text/plain": [
       "<function __main__.plot_importers(year)>"
      ]
     },
     "execution_count": 80,
     "metadata": {},
     "output_type": "execute_result"
    }
   ],
   "source": [
    "widgets.interact(plot_importers, year=(2010, 2018, 1))"
   ]
  },
  {
   "cell_type": "markdown",
   "metadata": {},
   "source": [
    "Top 5 Importers of China:\n",
    "1. Japan\n",
    "2. South Korea\n",
    "3. USA\n",
    "4. Germany\n",
    "5. Australia\n",
    "\n",
    "\n",
    "Importers of China\n",
    "\n",
    "o\tFrom a continental perspective, 55.4% of China’s total imports by value were purchased from fellow Asian countries like , Japan and South korea.\n",
    "\n",
    "o\tEuropean trade partners accounted for 18.1% of imported goods bought by China. Smaller percentage of overall Chinese imports came from suppliers in North America (8%), Latin America (7.2%) excluding Mexico but including the Caribbean, then Australia and other Oceanian sources (6.6%) and Africa (4.6%).\n",
    "\n",
    "o\tIn 2019 imports to China fell 2.7 percent, the first yearly decline in three years, on weak domestic demand and persistent trade tensions with the US.\n",
    "\n",
    "o\tChina imports with Vietnam,  Singapore and Indonesia have been increasing in recent times.\n",
    "\n",
    "o\tChina imports have been declining since January 2016, due to deteriorating domestic demand.\n",
    "\n",
    "o\tBased on the average exchange rate for 2019, the Chinese yuan depreciated by -10.9% against the US dollar since 2015 and declined by -4.4% from 2018 to 2019. \n",
    "\n",
    "o\tThe weaker Chinese yuan makes China’s imports paid for in stronger US dollars in 2019 relatively more expensive when converted starting from Chinese yuan.\n",
    "\n",
    "#### References:\n",
    "1. http://www.worldstopexports.com/chinas-top-10-imports/\n",
    "2. http://www.worldstopexports.com/chinas-top-import-partners/\n"
   ]
  },
  {
   "cell_type": "markdown",
   "metadata": {},
   "source": [
    "## Major Exporters of China"
   ]
  },
  {
   "cell_type": "code",
   "execution_count": 54,
   "metadata": {},
   "outputs": [],
   "source": [
    "def plot_exporters(year):\n",
    "    df = trade[trade.Year == year].groupby('Partner').sum().reset_index()\n",
    "    df = df.sort_values(by= 'Export', ascending=False).head(10)\n",
    "    title = \"<B>Top 10 Export Partners of China (\" + str(year) + \")</B>\"\n",
    "    fig = px.bar(df, x='Partner', y='Export', title=title)\n",
    "    fig.update_layout(\n",
    "    title={\n",
    "        'y':0.9,\n",
    "        'x':0.5,\n",
    "        'xanchor': 'center',\n",
    "        'yanchor': 'top'})\n",
    "    fig.update_xaxes(title_text='Partner', tickfont=dict(family='Rockwell', color='crimson', size=14), tickangle=30)\n",
    "    fig.show() "
   ]
  },
  {
   "cell_type": "code",
   "execution_count": 55,
   "metadata": {},
   "outputs": [
    {
     "data": {
      "application/vnd.jupyter.widget-view+json": {
       "model_id": "3e84321fcb48482aa9f7c0d15d41db35",
       "version_major": 2,
       "version_minor": 0
      },
      "text/plain": [
       "interactive(children=(IntSlider(value=2014, description='year', max=2018, min=2010), Output()), _dom_classes=(…"
      ]
     },
     "metadata": {},
     "output_type": "display_data"
    },
    {
     "data": {
      "text/plain": [
       "<function __main__.plot_exporters(year)>"
      ]
     },
     "execution_count": 55,
     "metadata": {},
     "output_type": "execute_result"
    }
   ],
   "source": [
    "widgets.interact(plot_exporters, year=(2010, 2018, 1))"
   ]
  },
  {
   "cell_type": "markdown",
   "metadata": {},
   "source": [
    "Top 4 Exporters of China:\n",
    "    1. USA\n",
    "    2. Hong Kong\n",
    "    3. Japan\n",
    "    5. South Korea\n",
    "    \n",
    "    \n",
    "Exporters of China\n",
    "    \n",
    "\n",
    "o\tIn recent years structure of China’s exports mostly have been office machinery, telecommunications, furniture and industrial supplies as compared to the clothing, footwear, other light manufactures and fuels that dominated its trade in the 1980s and early 1990s.\n",
    "\n",
    "o\tThe EU and US were the largest destinations of China's shipments, accounting for 17 percent of exports each, followed by Hong Kong (11 percent), Japan (6 percent), South Korea (4 percent)\n",
    "\n",
    "o\tIn 2019 China's exports increased only by 0.5 percent, whereas there was a 10 percent rise in 2018, with sales to the US falling sharply amid ongoing trade tensions. \n",
    "\n",
    "o\tAlso, Some of the main reasons behind the trade between China and the rest of the Asian countries are: Geographical proximity, shared borders, linguistic commonalities, and the existence of extensive networks of overseas Chinese.\n",
    "\n",
    "o\tChina has highly positive net exports in the international trade of machinery including computers. In turn, these cashflows indicate China’s strong competitive advantages under the machinery-related category.\n",
    "\n",
    "o\tOverall, China posted a 429.6  billion dollar trade surplus  in  2019  up  by  18.6% from 359.2 billion dollar in black ink during 2018 but down by -27.7% from 593.9 billion dollar five years earlier in 2015.\n",
    "\n",
    "o\tBased on the average exchange rate for 2019, the Chinese yuan has depreciated by -10.9% against the US dollar since 2015 and retreated by -4.4% in 2019. China’s weaker local currency make Chinese exports paid for in stronger US dollars relatively less expensive.\n",
    "\n",
    "o\tIn terms of positive surplus among China’s trading partners, Chinese surpluses with Vietnam (up 70.2%), Philippines (up 41.8%) and Singapore (up 22%) grew at the fastest pace in recent time.\n",
    "\n",
    "#### References:\n",
    "1. http://www.worldstopexports.com/chinas-top-import-partners/\n",
    "2. http://www.worldstopexports.com/chinas-top-10-exports/\n",
    "\n"
   ]
  },
  {
   "cell_type": "markdown",
   "metadata": {},
   "source": [
    "# Comparative Advantage\n",
    "\n",
    "## Problem Statement:\n",
    "Calculate  the  comparative advantage  for the country assigned to you.\n",
    "\n",
    "## Revealed Comparative Advantage (RCA):\n",
    "\n",
    "- Relative share of the country’s export of the product inthe world export of the same product, divided  by  the  overall  share  of  the  country  in  world  exports.\n",
    "- Used for calculating the  comparative  advantage of any country in a product.\n",
    "- Proposed by Balassa (1965)\n",
    "\n",
    "## RCA Formula:\n",
    "\n",
    "$$RCA = \\frac{(\\frac{X_{ji}}{X_{jw}})}{(\\frac{X_{i}}{X_{w}})}$$"
   ]
  },
  {
   "cell_type": "markdown",
   "metadata": {},
   "source": [
    "## RCA Analysis:\n",
    "\n",
    "First, we have calculated RCA for every Product Category and Partner each year as shown below:"
   ]
  },
  {
   "cell_type": "code",
   "execution_count": 56,
   "metadata": {},
   "outputs": [],
   "source": [
    "world = pd.read_excel('world.xlsx')"
   ]
  },
  {
   "cell_type": "code",
   "execution_count": 57,
   "metadata": {},
   "outputs": [],
   "source": [
    "tot_world = world.groupby('Year')['Trade Value (US$)'].sum()\n",
    "tot_china = trade.groupby('Year')['Export'].sum()"
   ]
  },
  {
   "cell_type": "code",
   "execution_count": 58,
   "metadata": {},
   "outputs": [],
   "source": [
    "world = world.groupby(['Year', 'Commodity'])['Trade Value (US$)'].sum().reset_index()"
   ]
  },
  {
   "cell_type": "code",
   "execution_count": 59,
   "metadata": {},
   "outputs": [],
   "source": [
    "c = list(world.Commodity.unique())"
   ]
  },
  {
   "cell_type": "code",
   "execution_count": 60,
   "metadata": {},
   "outputs": [],
   "source": [
    "trade2 = trade[trade.Commodity.isin(c)].reset_index()\n",
    "trade2.drop(columns='index', inplace=True)\n",
    "tot_com = trade2.groupby(['Year', 'Commodity'])['Export'].sum().reset_index()"
   ]
  },
  {
   "cell_type": "code",
   "execution_count": 61,
   "metadata": {},
   "outputs": [
    {
     "data": {
      "text/html": [
       "<div>\n",
       "<style scoped>\n",
       "    .dataframe tbody tr th:only-of-type {\n",
       "        vertical-align: middle;\n",
       "    }\n",
       "\n",
       "    .dataframe tbody tr th {\n",
       "        vertical-align: top;\n",
       "    }\n",
       "\n",
       "    .dataframe thead th {\n",
       "        text-align: right;\n",
       "    }\n",
       "</style>\n",
       "<table border=\"1\" class=\"dataframe\">\n",
       "  <thead>\n",
       "    <tr style=\"text-align: right;\">\n",
       "      <th></th>\n",
       "      <th>Year</th>\n",
       "      <th>Commodity</th>\n",
       "      <th>Export</th>\n",
       "      <th>RCA</th>\n",
       "    </tr>\n",
       "  </thead>\n",
       "  <tbody>\n",
       "    <tr>\n",
       "      <th>0</th>\n",
       "      <td>2010</td>\n",
       "      <td>Articles of apparel and clothing accessories</td>\n",
       "      <td>7.531894e+10</td>\n",
       "      <td>1.476021</td>\n",
       "    </tr>\n",
       "    <tr>\n",
       "      <th>1</th>\n",
       "      <td>2010</td>\n",
       "      <td>Electrical machinery, apparatus and appliances...</td>\n",
       "      <td>1.187828e+11</td>\n",
       "      <td>0.698203</td>\n",
       "    </tr>\n",
       "    <tr>\n",
       "      <th>2</th>\n",
       "      <td>2010</td>\n",
       "      <td>Metalliferous ores and metal scrap</td>\n",
       "      <td>5.097778e+08</td>\n",
       "      <td>0.012807</td>\n",
       "    </tr>\n",
       "    <tr>\n",
       "      <th>3</th>\n",
       "      <td>2010</td>\n",
       "      <td>Miscellaneous manufactured articles, n.e.s.</td>\n",
       "      <td>5.581397e+10</td>\n",
       "      <td>0.796102</td>\n",
       "    </tr>\n",
       "    <tr>\n",
       "      <th>4</th>\n",
       "      <td>2010</td>\n",
       "      <td>Office machines and automatic data-processing ...</td>\n",
       "      <td>1.328767e+11</td>\n",
       "      <td>1.738450</td>\n",
       "    </tr>\n",
       "    <tr>\n",
       "      <th>5</th>\n",
       "      <td>2010</td>\n",
       "      <td>Petroleum, petroleum products and related mate...</td>\n",
       "      <td>8.737824e+09</td>\n",
       "      <td>0.040386</td>\n",
       "    </tr>\n",
       "    <tr>\n",
       "      <th>6</th>\n",
       "      <td>2010</td>\n",
       "      <td>Professional, scientific and controlling instr...</td>\n",
       "      <td>2.512452e+10</td>\n",
       "      <td>0.528922</td>\n",
       "    </tr>\n",
       "    <tr>\n",
       "      <th>7</th>\n",
       "      <td>2010</td>\n",
       "      <td>Road vehicles (including air-cushion vehicles)</td>\n",
       "      <td>2.129878e+10</td>\n",
       "      <td>0.144332</td>\n",
       "    </tr>\n",
       "    <tr>\n",
       "      <th>8</th>\n",
       "      <td>2010</td>\n",
       "      <td>Telecommunications and sound-recording and rep...</td>\n",
       "      <td>1.288855e+11</td>\n",
       "      <td>1.436580</td>\n",
       "    </tr>\n",
       "    <tr>\n",
       "      <th>9</th>\n",
       "      <td>2011</td>\n",
       "      <td>Articles of apparel and clothing accessories</td>\n",
       "      <td>8.756454e+10</td>\n",
       "      <td>1.477740</td>\n",
       "    </tr>\n",
       "  </tbody>\n",
       "</table>\n",
       "</div>"
      ],
      "text/plain": [
       "   Year                                          Commodity        Export  \\\n",
       "0  2010       Articles of apparel and clothing accessories  7.531894e+10   \n",
       "1  2010  Electrical machinery, apparatus and appliances...  1.187828e+11   \n",
       "2  2010                 Metalliferous ores and metal scrap  5.097778e+08   \n",
       "3  2010        Miscellaneous manufactured articles, n.e.s.  5.581397e+10   \n",
       "4  2010  Office machines and automatic data-processing ...  1.328767e+11   \n",
       "5  2010  Petroleum, petroleum products and related mate...  8.737824e+09   \n",
       "6  2010  Professional, scientific and controlling instr...  2.512452e+10   \n",
       "7  2010     Road vehicles (including air-cushion vehicles)  2.129878e+10   \n",
       "8  2010  Telecommunications and sound-recording and rep...  1.288855e+11   \n",
       "9  2011       Articles of apparel and clothing accessories  8.756454e+10   \n",
       "\n",
       "        RCA  \n",
       "0  1.476021  \n",
       "1  0.698203  \n",
       "2  0.012807  \n",
       "3  0.796102  \n",
       "4  1.738450  \n",
       "5  0.040386  \n",
       "6  0.528922  \n",
       "7  0.144332  \n",
       "8  1.436580  \n",
       "9  1.477740  "
      ]
     },
     "execution_count": 61,
     "metadata": {},
     "output_type": "execute_result"
    }
   ],
   "source": [
    "for i in range(tot_com.shape[0]):\n",
    "    year = tot_com.loc[i, 'Year']\n",
    "    com = tot_com.loc[i, 'Commodity']\n",
    "    export = tot_com.loc[i, 'Export']\n",
    "    df = world[world.Year == year]\n",
    "    df = df[df.Commodity == com]\n",
    "    export_world = df['Trade Value (US$)'].values[0]\n",
    "    j = export / export_world\n",
    "    k = tot_china[year] / tot_world[year]\n",
    "    tot_com.loc[i, 'RCA'] = j/k\n",
    "\n",
    "tot_com.head(10)"
   ]
  },
  {
   "cell_type": "markdown",
   "metadata": {},
   "source": [
    "We also calculated RCA by Partner Country too:"
   ]
  },
  {
   "cell_type": "code",
   "execution_count": 62,
   "metadata": {},
   "outputs": [
    {
     "data": {
      "text/html": [
       "<div>\n",
       "<style scoped>\n",
       "    .dataframe tbody tr th:only-of-type {\n",
       "        vertical-align: middle;\n",
       "    }\n",
       "\n",
       "    .dataframe tbody tr th {\n",
       "        vertical-align: top;\n",
       "    }\n",
       "\n",
       "    .dataframe thead th {\n",
       "        text-align: right;\n",
       "    }\n",
       "</style>\n",
       "<table border=\"1\" class=\"dataframe\">\n",
       "  <thead>\n",
       "    <tr style=\"text-align: right;\">\n",
       "      <th></th>\n",
       "      <th>Export</th>\n",
       "      <th>Import</th>\n",
       "      <th>Year</th>\n",
       "      <th>Partner</th>\n",
       "      <th>Commodity</th>\n",
       "      <th>RCA</th>\n",
       "    </tr>\n",
       "  </thead>\n",
       "  <tbody>\n",
       "    <tr>\n",
       "      <th>0</th>\n",
       "      <td>2.864312e+09</td>\n",
       "      <td>1.066262e+06</td>\n",
       "      <td>2010</td>\n",
       "      <td>Australia</td>\n",
       "      <td>Articles of apparel and clothing accessories</td>\n",
       "      <td>0.056132</td>\n",
       "    </tr>\n",
       "    <tr>\n",
       "      <th>1</th>\n",
       "      <td>2.636727e+09</td>\n",
       "      <td>8.313093e+07</td>\n",
       "      <td>2010</td>\n",
       "      <td>Australia</td>\n",
       "      <td>Electrical machinery, apparatus and appliances...</td>\n",
       "      <td>0.015499</td>\n",
       "    </tr>\n",
       "    <tr>\n",
       "      <th>2</th>\n",
       "      <td>4.265071e+06</td>\n",
       "      <td>4.389602e+10</td>\n",
       "      <td>2010</td>\n",
       "      <td>Australia</td>\n",
       "      <td>Metalliferous ores and metal scrap</td>\n",
       "      <td>0.000107</td>\n",
       "    </tr>\n",
       "    <tr>\n",
       "      <th>3</th>\n",
       "      <td>1.636412e+09</td>\n",
       "      <td>8.153014e+07</td>\n",
       "      <td>2010</td>\n",
       "      <td>Australia</td>\n",
       "      <td>Miscellaneous manufactured articles, n.e.s.</td>\n",
       "      <td>0.023341</td>\n",
       "    </tr>\n",
       "    <tr>\n",
       "      <th>4</th>\n",
       "      <td>3.527218e+09</td>\n",
       "      <td>4.707311e+06</td>\n",
       "      <td>2010</td>\n",
       "      <td>Australia</td>\n",
       "      <td>Office machines and automatic data-processing ...</td>\n",
       "      <td>0.046147</td>\n",
       "    </tr>\n",
       "    <tr>\n",
       "      <th>5</th>\n",
       "      <td>1.872712e+08</td>\n",
       "      <td>1.641378e+09</td>\n",
       "      <td>2010</td>\n",
       "      <td>Australia</td>\n",
       "      <td>Petroleum, petroleum products and related mate...</td>\n",
       "      <td>0.000866</td>\n",
       "    </tr>\n",
       "    <tr>\n",
       "      <th>6</th>\n",
       "      <td>2.149312e+08</td>\n",
       "      <td>9.285829e+07</td>\n",
       "      <td>2010</td>\n",
       "      <td>Australia</td>\n",
       "      <td>Professional, scientific and controlling instr...</td>\n",
       "      <td>0.004525</td>\n",
       "    </tr>\n",
       "    <tr>\n",
       "      <th>7</th>\n",
       "      <td>6.966032e+08</td>\n",
       "      <td>2.241588e+07</td>\n",
       "      <td>2010</td>\n",
       "      <td>Australia</td>\n",
       "      <td>Road vehicles (including air-cushion vehicles)</td>\n",
       "      <td>0.004721</td>\n",
       "    </tr>\n",
       "    <tr>\n",
       "      <th>8</th>\n",
       "      <td>2.407674e+09</td>\n",
       "      <td>7.800902e+07</td>\n",
       "      <td>2010</td>\n",
       "      <td>Australia</td>\n",
       "      <td>Telecommunications and sound-recording and rep...</td>\n",
       "      <td>0.026836</td>\n",
       "    </tr>\n",
       "    <tr>\n",
       "      <th>9</th>\n",
       "      <td>7.165597e+09</td>\n",
       "      <td>1.646145e+08</td>\n",
       "      <td>2010</td>\n",
       "      <td>China, Hong Kong SAR</td>\n",
       "      <td>Articles of apparel and clothing accessories</td>\n",
       "      <td>0.140424</td>\n",
       "    </tr>\n",
       "  </tbody>\n",
       "</table>\n",
       "</div>"
      ],
      "text/plain": [
       "         Export        Import  Year               Partner  \\\n",
       "0  2.864312e+09  1.066262e+06  2010             Australia   \n",
       "1  2.636727e+09  8.313093e+07  2010             Australia   \n",
       "2  4.265071e+06  4.389602e+10  2010             Australia   \n",
       "3  1.636412e+09  8.153014e+07  2010             Australia   \n",
       "4  3.527218e+09  4.707311e+06  2010             Australia   \n",
       "5  1.872712e+08  1.641378e+09  2010             Australia   \n",
       "6  2.149312e+08  9.285829e+07  2010             Australia   \n",
       "7  6.966032e+08  2.241588e+07  2010             Australia   \n",
       "8  2.407674e+09  7.800902e+07  2010             Australia   \n",
       "9  7.165597e+09  1.646145e+08  2010  China, Hong Kong SAR   \n",
       "\n",
       "                                           Commodity       RCA  \n",
       "0       Articles of apparel and clothing accessories  0.056132  \n",
       "1  Electrical machinery, apparatus and appliances...  0.015499  \n",
       "2                 Metalliferous ores and metal scrap  0.000107  \n",
       "3        Miscellaneous manufactured articles, n.e.s.  0.023341  \n",
       "4  Office machines and automatic data-processing ...  0.046147  \n",
       "5  Petroleum, petroleum products and related mate...  0.000866  \n",
       "6  Professional, scientific and controlling instr...  0.004525  \n",
       "7     Road vehicles (including air-cushion vehicles)  0.004721  \n",
       "8  Telecommunications and sound-recording and rep...  0.026836  \n",
       "9       Articles of apparel and clothing accessories  0.140424  "
      ]
     },
     "execution_count": 62,
     "metadata": {},
     "output_type": "execute_result"
    }
   ],
   "source": [
    "for i in range(trade2.shape[0]):\n",
    "    year = trade2.loc[i, 'Year']\n",
    "    com = trade2.loc[i, 'Commodity']\n",
    "    export = trade2.loc[i, 'Export']\n",
    "    df = world[world.Year == year]\n",
    "    df = df[df.Commodity == com]\n",
    "    export_world = df['Trade Value (US$)'].values[0]\n",
    "    j = export / export_world\n",
    "    k = tot_china[year] / tot_world[year]\n",
    "    trade2.loc[i, 'RCA'] = j/k\n",
    "\n",
    "trade2.head(10)"
   ]
  },
  {
   "cell_type": "markdown",
   "metadata": {},
   "source": [
    "RCA index of china for different product categories is plotted below:"
   ]
  },
  {
   "cell_type": "code",
   "execution_count": 63,
   "metadata": {},
   "outputs": [],
   "source": [
    "def plot_rca1(commodity):\n",
    "    df = tot_com[tot_com.Commodity == commodity]\n",
    "    title = \"<B>RCA Index for \" + commodity + \", China</B>\"\n",
    "    fig = px.line(df, x='Year', y='RCA', title=title)\n",
    "    fig.update_layout(\n",
    "    title={\n",
    "        'y':0.9,\n",
    "        'x':0.5,\n",
    "        'xanchor': 'center',\n",
    "        'yanchor': 'top'})\n",
    "    fig.show()"
   ]
  },
  {
   "cell_type": "code",
   "execution_count": 64,
   "metadata": {},
   "outputs": [],
   "source": [
    "commodity = list(trade2.Commodity.unique())"
   ]
  },
  {
   "cell_type": "code",
   "execution_count": 65,
   "metadata": {},
   "outputs": [
    {
     "data": {
      "application/vnd.jupyter.widget-view+json": {
       "model_id": "1665e9cb49ce413ba9ba3b689fcb2d6a",
       "version_major": 2,
       "version_minor": 0
      },
      "text/plain": [
       "interactive(children=(Dropdown(description='commodity', options=('Articles of apparel and clothing accessories…"
      ]
     },
     "metadata": {},
     "output_type": "display_data"
    },
    {
     "data": {
      "text/plain": [
       "<function __main__.plot_rca1(commodity)>"
      ]
     },
     "execution_count": 65,
     "metadata": {},
     "output_type": "execute_result"
    }
   ],
   "source": [
    "widgets.interact(plot_rca1, commodity = commodity)"
   ]
  },
  {
   "cell_type": "markdown",
   "metadata": {},
   "source": [
    "Now, RCA index is plotted against Partner Countries for different product categories and for different years as shown below:"
   ]
  },
  {
   "cell_type": "code",
   "execution_count": 66,
   "metadata": {},
   "outputs": [],
   "source": [
    "commodity = list(trade2.Commodity.unique())"
   ]
  },
  {
   "cell_type": "code",
   "execution_count": 67,
   "metadata": {},
   "outputs": [],
   "source": [
    "def plot_rca(commodity, year):\n",
    "    df = trade2[trade2.Commodity == commodity]\n",
    "    df = df[df.Year == year]\n",
    "    df = df.sort_values(by='RCA', ascending=False)\n",
    "    title = \"<B>RCA Index for \" + commodity + \" (\" + str(year) + \")</B>\"\n",
    "    fig = px.bar(df, x='Partner', y='RCA', title=title)\n",
    "    fig.update_layout(\n",
    "    title={\n",
    "        'y':0.9,\n",
    "        'x':0.5,\n",
    "        'xanchor': 'center',\n",
    "        'yanchor': 'top'})\n",
    "    fig.show()"
   ]
  },
  {
   "cell_type": "code",
   "execution_count": 68,
   "metadata": {},
   "outputs": [
    {
     "data": {
      "application/vnd.jupyter.widget-view+json": {
       "model_id": "0554140d5ce94a649bb1a3043af452d6",
       "version_major": 2,
       "version_minor": 0
      },
      "text/plain": [
       "interactive(children=(Dropdown(description='commodity', options=('Articles of apparel and clothing accessories…"
      ]
     },
     "metadata": {},
     "output_type": "display_data"
    },
    {
     "data": {
      "text/plain": [
       "<function __main__.plot_rca(commodity, year)>"
      ]
     },
     "execution_count": 68,
     "metadata": {},
     "output_type": "execute_result"
    }
   ],
   "source": [
    "widgets.interact(plot_rca, commodity = commodity, year = (2010, 2018, 1))"
   ]
  },
  {
   "cell_type": "code",
   "execution_count": 69,
   "metadata": {},
   "outputs": [],
   "source": [
    "country = ['Japan', 'USA', 'China, Hong Kong SAR', 'Rep. of Korea', 'Germany', 'Australia']"
   ]
  },
  {
   "cell_type": "code",
   "execution_count": 70,
   "metadata": {},
   "outputs": [],
   "source": [
    "def plot_rca2(commodity, partner):\n",
    "    df = trade2[trade2.Commodity == commodity]\n",
    "    df = df[df.Partner == partner]\n",
    "    title = \"<B>RCA Index for \" + commodity + \" in \" + partner +\" (\" + str(year) + \")</B>\"\n",
    "    fig = px.line(df, x='Year', y='RCA', title=title)\n",
    "    fig.update_layout(\n",
    "    title={\n",
    "        'y':0.9,\n",
    "        'x':0.5,\n",
    "        'xanchor': 'center',\n",
    "        'yanchor': 'top'})\n",
    "    fig.show()"
   ]
  },
  {
   "cell_type": "code",
   "execution_count": 71,
   "metadata": {},
   "outputs": [
    {
     "data": {
      "application/vnd.jupyter.widget-view+json": {
       "model_id": "11424806f2694a5c87764a0af9c3833a",
       "version_major": 2,
       "version_minor": 0
      },
      "text/plain": [
       "interactive(children=(Dropdown(description='commodity', options=('Articles of apparel and clothing accessories…"
      ]
     },
     "metadata": {},
     "output_type": "display_data"
    },
    {
     "data": {
      "text/plain": [
       "<function __main__.plot_rca2(commodity, partner)>"
      ]
     },
     "execution_count": 71,
     "metadata": {},
     "output_type": "execute_result"
    }
   ],
   "source": [
    "widgets.interact(plot_rca2, commodity = commodity, partner = country)"
   ]
  },
  {
   "cell_type": "markdown",
   "metadata": {},
   "source": [
    "### 1. Office Machines and automatic data pocessing machines\n",
    "- According to research by Changjiang Securities about China’s high tech export whose results were published in an article [Is China moving towards capital & technology intensive economy](https://www.fashionatingworld.com/new1-2/is-china-moving-towards-capital-technology-intensive-economy). The shift from being China exporting labour intensive products to capital intensive products could be seen as many South East Asian Countries are emerging that have cheaper labour than China, and the aging work population of China is also could also account for that reason behind this shift.\n",
    "- Other then this the other reason that could account for China having RCA greater than 1 in this, is that China is trying to work up the ladder of value chain. Many economists believe that once an economy starts producing goods higher up on the technological ladder like electric generators or motor vehicles then labour productivity in that industry is placed on an automatic upward trajectory, increasing skilled labour. With the accumulation of knowledge and technological progress, China's labour productivity has improved rapidly, trade competitiveness has also been significantly improved, further driving the export structure upgrading\n",
    "- The Chinese economy is not stuck at exporting and producing labour intensive products only but is growing in the global value chain and producing capital intensive, technological products as well[As per Financial Times, Shanghai article](https://www.ft.com/content/cdc53aee-bc2e-11e8-94b2-17176fbf93f5)\n",
    "- Quoting [Rahul Anand](https://www.imf.org/external/pubs/ft/wp/2015/wp15119.pdf) But the RCA has been constantly decreasing since 2011, the reason behind that according is that economies like India are catching up with manufacturing in medium technology sector, India also has an RCA in office machine and automatic data processing machines, which is one of the factors leading to decrease in China’s RCA in this product segment. The increase in medium technology products globally has also caused the increase in the production of these products in India as well. \n"
   ]
  },
  {
   "cell_type": "markdown",
   "metadata": {},
   "source": [
    "### 2. Article of apparel and clothing accessories \n",
    "- China has RCA of over 1 , that means it has competitive advantage in apparels, but there is a big dip in 2015 as can be seen from the graph, the reasons behind it could be:\n",
    "- According [Qingliang Gu](https://www.intracen.org/uploadedFiles/intracenorg/Content/Exporters/Sectors/Food_and_agri_business/Cotton/AssetPDF/China%20final%20technical%20document%20for%20print1.pdf) \n",
    "- Europe was a big market for china but because the Euro was weakened around this time and the demand fell, exports were reduced. \n",
    "- Transnational corporations shifting their textile manufacturing to Southeast Asia where labour costs are three to four times cheaper\n",
    "- Operating costs have also been increased by the growing burden of environmental controls imposed by the Chinese government\n",
    "- But even after falling RCA of china is 1.14 in 2018, so China still has a comparative advantage, as many international brands manufacture their apparels in China as it is a labour intensive product, and labour is cheaper in China compared to Europe, USA or Japan\n"
   ]
  },
  {
   "cell_type": "markdown",
   "metadata": {},
   "source": [
    "### 3. Electrical Machinery, Apparatus and Appliances\n",
    "- Studying [Cama Crawford](https://cama.crawford.anu.edu.au/sites/default/files/publication/cama_crawford_anu_edu_au/2015-07/26_2015_lu.pdf)'s paper :\n",
    "- All the major electrical equipment have some of their parts manufactured in China be it a laptop or any household equipment. especially in the final stage of production. \n",
    "- This makes China a big “assembly room” of electrical equipment for the world. The RCA of China in this industry grew up till 2013 but after that there has been a constant drop in this industry. China enjoys an extremely low cost of labour such that more than 50% of persons engaged in electrical equipment industry over the world are from China, which may justify its role of “assembly room” for the world\n",
    "- China does not have an RCA above 1 in this segment but it did reach close to 1 in 2013, then there was a drastic drop and it has been falling since then. The reasons behind this could be many ither South East Asian Economies are being turned into this assembly room especially India, this has happened because of US sanctions and also more cheaper labour is available in these economies and the compliance and FDI policies are more relaxed, though China also has the same things, but major manufacturers are trying to shift their business to some other country, since US sanctions.\n"
   ]
  },
  {
   "cell_type": "markdown",
   "metadata": {},
   "source": [
    "# Intra Industry Trade Index\n",
    "-  Study  about  the  intra-industry  trade  between  China  and  its  major trading  partners\n",
    "-  Calculate the  intra-industry  trade  using  the Grubel  Lloyd  Index\n",
    "-  Done for different product categories/industry at SITC classification Digit 2\n",
    "\n",
    "## Formula for Intra Industry Trade Index\n",
    "\n",
    "$$\\text{Intraindustry Trade Index = } 1 - \\frac{|X - M|}{X + M}$$"
   ]
  },
  {
   "cell_type": "markdown",
   "metadata": {},
   "source": [
    "## ITI Analysis\n",
    "\n",
    "First, ITI for different product categories for different years across all partners is calculated below:"
   ]
  },
  {
   "cell_type": "code",
   "execution_count": 72,
   "metadata": {},
   "outputs": [
    {
     "data": {
      "text/html": [
       "<div>\n",
       "<style scoped>\n",
       "    .dataframe tbody tr th:only-of-type {\n",
       "        vertical-align: middle;\n",
       "    }\n",
       "\n",
       "    .dataframe tbody tr th {\n",
       "        vertical-align: top;\n",
       "    }\n",
       "\n",
       "    .dataframe thead th {\n",
       "        text-align: right;\n",
       "    }\n",
       "</style>\n",
       "<table border=\"1\" class=\"dataframe\">\n",
       "  <thead>\n",
       "    <tr style=\"text-align: right;\">\n",
       "      <th></th>\n",
       "      <th>Export</th>\n",
       "      <th>Import</th>\n",
       "      <th>Year</th>\n",
       "      <th>Partner</th>\n",
       "      <th>Commodity</th>\n",
       "      <th>RCA</th>\n",
       "      <th>ITI</th>\n",
       "    </tr>\n",
       "  </thead>\n",
       "  <tbody>\n",
       "    <tr>\n",
       "      <th>0</th>\n",
       "      <td>2.864312e+09</td>\n",
       "      <td>1.066262e+06</td>\n",
       "      <td>2010</td>\n",
       "      <td>Australia</td>\n",
       "      <td>Articles of apparel and clothing accessories</td>\n",
       "      <td>0.056132</td>\n",
       "      <td>0.000744</td>\n",
       "    </tr>\n",
       "    <tr>\n",
       "      <th>1</th>\n",
       "      <td>2.636727e+09</td>\n",
       "      <td>8.313093e+07</td>\n",
       "      <td>2010</td>\n",
       "      <td>Australia</td>\n",
       "      <td>Electrical machinery, apparatus and appliances...</td>\n",
       "      <td>0.015499</td>\n",
       "      <td>0.061129</td>\n",
       "    </tr>\n",
       "    <tr>\n",
       "      <th>2</th>\n",
       "      <td>4.265071e+06</td>\n",
       "      <td>4.389602e+10</td>\n",
       "      <td>2010</td>\n",
       "      <td>Australia</td>\n",
       "      <td>Metalliferous ores and metal scrap</td>\n",
       "      <td>0.000107</td>\n",
       "      <td>0.000194</td>\n",
       "    </tr>\n",
       "    <tr>\n",
       "      <th>3</th>\n",
       "      <td>1.636412e+09</td>\n",
       "      <td>8.153014e+07</td>\n",
       "      <td>2010</td>\n",
       "      <td>Australia</td>\n",
       "      <td>Miscellaneous manufactured articles, n.e.s.</td>\n",
       "      <td>0.023341</td>\n",
       "      <td>0.094916</td>\n",
       "    </tr>\n",
       "    <tr>\n",
       "      <th>4</th>\n",
       "      <td>3.527218e+09</td>\n",
       "      <td>4.707311e+06</td>\n",
       "      <td>2010</td>\n",
       "      <td>Australia</td>\n",
       "      <td>Office machines and automatic data-processing ...</td>\n",
       "      <td>0.046147</td>\n",
       "      <td>0.002666</td>\n",
       "    </tr>\n",
       "  </tbody>\n",
       "</table>\n",
       "</div>"
      ],
      "text/plain": [
       "         Export        Import  Year    Partner  \\\n",
       "0  2.864312e+09  1.066262e+06  2010  Australia   \n",
       "1  2.636727e+09  8.313093e+07  2010  Australia   \n",
       "2  4.265071e+06  4.389602e+10  2010  Australia   \n",
       "3  1.636412e+09  8.153014e+07  2010  Australia   \n",
       "4  3.527218e+09  4.707311e+06  2010  Australia   \n",
       "\n",
       "                                           Commodity       RCA       ITI  \n",
       "0       Articles of apparel and clothing accessories  0.056132  0.000744  \n",
       "1  Electrical machinery, apparatus and appliances...  0.015499  0.061129  \n",
       "2                 Metalliferous ores and metal scrap  0.000107  0.000194  \n",
       "3        Miscellaneous manufactured articles, n.e.s.  0.023341  0.094916  \n",
       "4  Office machines and automatic data-processing ...  0.046147  0.002666  "
      ]
     },
     "execution_count": 72,
     "metadata": {},
     "output_type": "execute_result"
    }
   ],
   "source": [
    "for i in range(trade2.shape[0]):\n",
    "    exports = trade2.loc[i, 'Export']\n",
    "    imports = trade2.loc[i, 'Import']\n",
    "    index = 1 - np.absolute(exports - imports) / (exports + imports)\n",
    "    trade2.loc[i, 'ITI'] = index\n",
    "\n",
    "trade2.head()"
   ]
  },
  {
   "cell_type": "code",
   "execution_count": 73,
   "metadata": {},
   "outputs": [],
   "source": [
    "commodity = list(trade2.Commodity.unique())"
   ]
  },
  {
   "cell_type": "markdown",
   "metadata": {},
   "source": [
    "Now, ITI index is plotted against Partner Countries for different product categories and for different years as shown below: "
   ]
  },
  {
   "cell_type": "code",
   "execution_count": 74,
   "metadata": {},
   "outputs": [],
   "source": [
    "def plot_iti(commodity, year):\n",
    "    df = trade2[trade2.Commodity == commodity]\n",
    "    df = df[df.Year == year]\n",
    "    df = df.sort_values(by='ITI', ascending=False)\n",
    "    title = \"<B>ITI Index for \" + commodity + \" (\" + str(year) + \")\"\n",
    "    fig = px.bar(df, x='Partner', y='ITI', title=title)\n",
    "    fig.update_layout(\n",
    "    title={\n",
    "        'y':0.9,\n",
    "        'x':0.5,\n",
    "        'xanchor': 'center',\n",
    "        'yanchor': 'top'})\n",
    "    fig.show()"
   ]
  },
  {
   "cell_type": "code",
   "execution_count": 75,
   "metadata": {},
   "outputs": [
    {
     "data": {
      "application/vnd.jupyter.widget-view+json": {
       "model_id": "cd670588a13f4657b2b343e73d01cefb",
       "version_major": 2,
       "version_minor": 0
      },
      "text/plain": [
       "interactive(children=(Dropdown(description='commodity', options=('Articles of apparel and clothing accessories…"
      ]
     },
     "metadata": {},
     "output_type": "display_data"
    },
    {
     "data": {
      "text/plain": [
       "<function __main__.plot_iti(commodity, year)>"
      ]
     },
     "execution_count": 75,
     "metadata": {},
     "output_type": "execute_result"
    }
   ],
   "source": [
    "widgets.interact(plot_iti, commodity = commodity, year = (2010, 2018, 1))"
   ]
  },
  {
   "cell_type": "markdown",
   "metadata": {},
   "source": [
    "China consistently has high ITI in the following product categories:\n",
    "1. Office Machines, ADP Mach\n",
    "2. Electrical Machinery, Apparatus and Appliances\n",
    "3. Telecommunication and Sound Recording\n",
    "4. Road Vehicles\n",
    "5. Petroleum, Petroleum Products and Related Matrials"
   ]
  },
  {
   "cell_type": "markdown",
   "metadata": {},
   "source": [
    "### 1. Office Machines, ADP Mach\n",
    "ITI index of China with Viet Nam and Rep. of Korea remains above 0.90 from 2010 to 2016. In 2017 and 2018, it decreased to 0.57. But still it is high. \n",
    "\n",
    "The main reasons for high trade between Viet Nam and China are quoted by [Ha Thi Hong Van](https://www.ide.go.jp/library/English/Publish/Download/Brc/pdf/05_chapter10.pdf) as follows:\n",
    "\n",
    "1. Horizontal Relationship (Trading Similar Products) between China and ASEAN - 5 especially in industrial (raw & intermediate) products.\n",
    "2. Due to high economic growth of China and it's amalgamation in global economy for over 30 years, it needs natural resources to keep continuing it's growth trajectory. Viet Nam is the ideal location for such natural resources.\n",
    "3. In China, products are cheaper and their quality is higher than Vietnam's. Importing from China compensates for shortage of industrial inputs and consumer goods in Viet Nam.\n",
    "4. Being Geographically neighbors to each other is also a factor for large intra-industry trade.\n",
    "5. Similar Culture\n",
    "\n",
    "[Kim et al](http://citeseerx.ist.psu.edu/viewdoc/download;jsessionid=6C9B763AB06E188FA328732B37BEF794?doi=10.1.1.559.40&rep=rep1&type=pdf) have examined the trade of China & South Korea. The main reasons proposed by him for Intra Industry Trade between South Korea and China are:\n",
    "1. Increasing bilateral trade between China and South Korea over the years.\n",
    "2. An increase in intraindustry trade in SITC-6 in the case of China and SITC-5, -7 and -8 in the case of Korea.\n",
    "3. China converging to Korea in the export structure (Import Intensity Index and Export Intensity Index for China and South Korea were moving in a similar way).\n",
    "4. <B>An increasing international fragmentation of production processes</B> - Many of China’s exports of high-technology products are from foreign-owned or joint venture firms that are in China to take advantage of its low-cost labor. These firms are basically assembly operations that put together imported parts for sale outside of China, and since many of these imports and exports are in the same SITC groups they would be reported as intra-industry trade."
   ]
  },
  {
   "cell_type": "markdown",
   "metadata": {},
   "source": [
    "### 2. Electrical Machinery, Apparatus and Appliances\n",
    "\n",
    "In 2010, China had high ITI with France. But from 2011, China has high ITI with Germany and Vietnam. Reasons for high ITI with Vietnam are same as in \\[1\\].\n",
    "\n",
    "With Germany and France, the reason of China having high ITI [Caporale et. al.](https://www.sciencedirect.com/science/article/pii/S1043951X15000516):\n",
    "1. China developed a <B>comparative advantage in capital-intensive sectors</B> such as office machines and telecommunications and sound recording equipment vis-à-vis its main partners.\n",
    "2. The <B>technological upgrading</B> has led to highly internationalised and competitive industries being able to sell their exports to the developed economies.\n",
    "3. A <B>convergence in the commodity compositions</B> of exports and imports and the <B>increase in trade in machinery parts and components</B> indicate that intra-industry trade has become much more important in the most recent years"
   ]
  },
  {
   "cell_type": "markdown",
   "metadata": {},
   "source": [
    "### 3. Telecommunication and Sound Recording\n",
    "\n",
    "Highest ITI for China in Telecomm is with Vietnam and South Korea. (Same Reason as in \\[1\\].). After 2016, ITI for china with South Korea decreased."
   ]
  },
  {
   "cell_type": "markdown",
   "metadata": {},
   "source": [
    "### 4. Road Vehicles\n",
    "\n",
    "China has high Intra Industry Trade with France, South Korea and USA. The factors are given by [Canis et. al.](https://fas.org/sgp/crs/row/R43071.pdf):\n",
    "1. Technology Transfer from USA and EU to China\n",
    "2. A lot of Joint Ventures between local Chinese automakers and Foreign automakers (Since 1980s, Foreign automakers are allowed to produce vehicles in China, but only through joint ventures in which local partners have at least 50% control.)\n",
    "3.  The Chinese parts industry is fragmented and comprises both Chinese and foreign parts makers, including many U.S.-based companies. According to U.S. government data, about 25% of China’s auto parts production is exported, including to the United States, where more than \\$14 billion in parts from China were imported in 2012, a 60% increase since 2008.\n",
    "\n",
    "In USA, there is high Intra Industry Trade in automobile industry ([Yucel et. al., 2019](https://dergipark.org.tr/tr/download/article-file/680667)). Most of this trade is dominated by vertical intra industry trade i.e. a trade in “vertically differentiated” products distinguished by quality and price. China exports auto parts of medium quality at subsidized rates to USA and imports luxurious cars from USA in bulk.\n",
    "\n",
    "4. Increased Chinese Acquisition of foreign auto part makers (eg: Pacific Century Motors (PCM), a joint venture between the Beijing municipal government and another Chinese partner, bought Nexteer Automotive from GM in 2010).\n",
    "5. China’s most recent Five Year Plan emphasizes production of “new energy vehicles,” such as electric and fuel cell cars.  A Chinese government list of 400 cars eligible for the energy-saving vehicles program is reportedly restricted to vehicles\n",
    "produced in China, and a 2011 sales tax exemption to boost sales of such cars is similarly limited. Various joint ventures with local chinese automakers have forced the co-partner foreign auto makers like Daimler and GE to transfer their technology to them.\n",
    "\n",
    "We can also gauge high ITI in road vehicles through following graphs. China indeed both exports and imports road vehicle category products in large quantities. Total Imports still exceed Total Exports by around 25 Billion on an average each year which can support above factors too.."
   ]
  },
  {
   "cell_type": "code",
   "execution_count": 76,
   "metadata": {},
   "outputs": [
    {
     "data": {
      "application/vnd.plotly.v1+json": {
       "config": {
        "plotlyServerURL": "https://plot.ly"
       },
       "data": [
        {
         "type": "scatter",
         "x": [
          2010,
          2011,
          2012,
          2013,
          2014,
          2015,
          2016,
          2017,
          2018
         ],
         "xaxis": "x",
         "y": [
          21298778411,
          27440061402,
          27622357137,
          28674357727,
          33072330254,
          31861575356,
          29651124211,
          35424966742,
          40724352281
         ],
         "yaxis": "y"
        },
        {
         "type": "scatter",
         "x": [
          2010,
          2011,
          2012,
          2013,
          2014,
          2015,
          2016,
          2017,
          2018
         ],
         "xaxis": "x2",
         "y": [
          40932300176,
          51765264908,
          54331322678,
          54000196604,
          64469716810,
          51911189017,
          53410324854,
          57261407760,
          58221255218
         ],
         "yaxis": "y2"
        }
       ],
       "layout": {
        "annotations": [
         {
          "font": {
           "size": 16
          },
          "showarrow": false,
          "text": "Total Road Vehicle Exports from China",
          "x": 0.225,
          "xanchor": "center",
          "xref": "paper",
          "y": 1,
          "yanchor": "bottom",
          "yref": "paper"
         },
         {
          "font": {
           "size": 16
          },
          "showarrow": false,
          "text": "Total Road Vehicle Imports to China",
          "x": 0.775,
          "xanchor": "center",
          "xref": "paper",
          "y": 1,
          "yanchor": "bottom",
          "yref": "paper"
         }
        ],
        "height": 600,
        "showlegend": false,
        "template": {
         "data": {
          "bar": [
           {
            "error_x": {
             "color": "#2a3f5f"
            },
            "error_y": {
             "color": "#2a3f5f"
            },
            "marker": {
             "line": {
              "color": "#E5ECF6",
              "width": 0.5
             }
            },
            "type": "bar"
           }
          ],
          "barpolar": [
           {
            "marker": {
             "line": {
              "color": "#E5ECF6",
              "width": 0.5
             }
            },
            "type": "barpolar"
           }
          ],
          "carpet": [
           {
            "aaxis": {
             "endlinecolor": "#2a3f5f",
             "gridcolor": "white",
             "linecolor": "white",
             "minorgridcolor": "white",
             "startlinecolor": "#2a3f5f"
            },
            "baxis": {
             "endlinecolor": "#2a3f5f",
             "gridcolor": "white",
             "linecolor": "white",
             "minorgridcolor": "white",
             "startlinecolor": "#2a3f5f"
            },
            "type": "carpet"
           }
          ],
          "choropleth": [
           {
            "colorbar": {
             "outlinewidth": 0,
             "ticks": ""
            },
            "type": "choropleth"
           }
          ],
          "contour": [
           {
            "colorbar": {
             "outlinewidth": 0,
             "ticks": ""
            },
            "colorscale": [
             [
              0,
              "#0d0887"
             ],
             [
              0.1111111111111111,
              "#46039f"
             ],
             [
              0.2222222222222222,
              "#7201a8"
             ],
             [
              0.3333333333333333,
              "#9c179e"
             ],
             [
              0.4444444444444444,
              "#bd3786"
             ],
             [
              0.5555555555555556,
              "#d8576b"
             ],
             [
              0.6666666666666666,
              "#ed7953"
             ],
             [
              0.7777777777777778,
              "#fb9f3a"
             ],
             [
              0.8888888888888888,
              "#fdca26"
             ],
             [
              1,
              "#f0f921"
             ]
            ],
            "type": "contour"
           }
          ],
          "contourcarpet": [
           {
            "colorbar": {
             "outlinewidth": 0,
             "ticks": ""
            },
            "type": "contourcarpet"
           }
          ],
          "heatmap": [
           {
            "colorbar": {
             "outlinewidth": 0,
             "ticks": ""
            },
            "colorscale": [
             [
              0,
              "#0d0887"
             ],
             [
              0.1111111111111111,
              "#46039f"
             ],
             [
              0.2222222222222222,
              "#7201a8"
             ],
             [
              0.3333333333333333,
              "#9c179e"
             ],
             [
              0.4444444444444444,
              "#bd3786"
             ],
             [
              0.5555555555555556,
              "#d8576b"
             ],
             [
              0.6666666666666666,
              "#ed7953"
             ],
             [
              0.7777777777777778,
              "#fb9f3a"
             ],
             [
              0.8888888888888888,
              "#fdca26"
             ],
             [
              1,
              "#f0f921"
             ]
            ],
            "type": "heatmap"
           }
          ],
          "heatmapgl": [
           {
            "colorbar": {
             "outlinewidth": 0,
             "ticks": ""
            },
            "colorscale": [
             [
              0,
              "#0d0887"
             ],
             [
              0.1111111111111111,
              "#46039f"
             ],
             [
              0.2222222222222222,
              "#7201a8"
             ],
             [
              0.3333333333333333,
              "#9c179e"
             ],
             [
              0.4444444444444444,
              "#bd3786"
             ],
             [
              0.5555555555555556,
              "#d8576b"
             ],
             [
              0.6666666666666666,
              "#ed7953"
             ],
             [
              0.7777777777777778,
              "#fb9f3a"
             ],
             [
              0.8888888888888888,
              "#fdca26"
             ],
             [
              1,
              "#f0f921"
             ]
            ],
            "type": "heatmapgl"
           }
          ],
          "histogram": [
           {
            "marker": {
             "colorbar": {
              "outlinewidth": 0,
              "ticks": ""
             }
            },
            "type": "histogram"
           }
          ],
          "histogram2d": [
           {
            "colorbar": {
             "outlinewidth": 0,
             "ticks": ""
            },
            "colorscale": [
             [
              0,
              "#0d0887"
             ],
             [
              0.1111111111111111,
              "#46039f"
             ],
             [
              0.2222222222222222,
              "#7201a8"
             ],
             [
              0.3333333333333333,
              "#9c179e"
             ],
             [
              0.4444444444444444,
              "#bd3786"
             ],
             [
              0.5555555555555556,
              "#d8576b"
             ],
             [
              0.6666666666666666,
              "#ed7953"
             ],
             [
              0.7777777777777778,
              "#fb9f3a"
             ],
             [
              0.8888888888888888,
              "#fdca26"
             ],
             [
              1,
              "#f0f921"
             ]
            ],
            "type": "histogram2d"
           }
          ],
          "histogram2dcontour": [
           {
            "colorbar": {
             "outlinewidth": 0,
             "ticks": ""
            },
            "colorscale": [
             [
              0,
              "#0d0887"
             ],
             [
              0.1111111111111111,
              "#46039f"
             ],
             [
              0.2222222222222222,
              "#7201a8"
             ],
             [
              0.3333333333333333,
              "#9c179e"
             ],
             [
              0.4444444444444444,
              "#bd3786"
             ],
             [
              0.5555555555555556,
              "#d8576b"
             ],
             [
              0.6666666666666666,
              "#ed7953"
             ],
             [
              0.7777777777777778,
              "#fb9f3a"
             ],
             [
              0.8888888888888888,
              "#fdca26"
             ],
             [
              1,
              "#f0f921"
             ]
            ],
            "type": "histogram2dcontour"
           }
          ],
          "mesh3d": [
           {
            "colorbar": {
             "outlinewidth": 0,
             "ticks": ""
            },
            "type": "mesh3d"
           }
          ],
          "parcoords": [
           {
            "line": {
             "colorbar": {
              "outlinewidth": 0,
              "ticks": ""
             }
            },
            "type": "parcoords"
           }
          ],
          "pie": [
           {
            "automargin": true,
            "type": "pie"
           }
          ],
          "scatter": [
           {
            "marker": {
             "colorbar": {
              "outlinewidth": 0,
              "ticks": ""
             }
            },
            "type": "scatter"
           }
          ],
          "scatter3d": [
           {
            "line": {
             "colorbar": {
              "outlinewidth": 0,
              "ticks": ""
             }
            },
            "marker": {
             "colorbar": {
              "outlinewidth": 0,
              "ticks": ""
             }
            },
            "type": "scatter3d"
           }
          ],
          "scattercarpet": [
           {
            "marker": {
             "colorbar": {
              "outlinewidth": 0,
              "ticks": ""
             }
            },
            "type": "scattercarpet"
           }
          ],
          "scattergeo": [
           {
            "marker": {
             "colorbar": {
              "outlinewidth": 0,
              "ticks": ""
             }
            },
            "type": "scattergeo"
           }
          ],
          "scattergl": [
           {
            "marker": {
             "colorbar": {
              "outlinewidth": 0,
              "ticks": ""
             }
            },
            "type": "scattergl"
           }
          ],
          "scattermapbox": [
           {
            "marker": {
             "colorbar": {
              "outlinewidth": 0,
              "ticks": ""
             }
            },
            "type": "scattermapbox"
           }
          ],
          "scatterpolar": [
           {
            "marker": {
             "colorbar": {
              "outlinewidth": 0,
              "ticks": ""
             }
            },
            "type": "scatterpolar"
           }
          ],
          "scatterpolargl": [
           {
            "marker": {
             "colorbar": {
              "outlinewidth": 0,
              "ticks": ""
             }
            },
            "type": "scatterpolargl"
           }
          ],
          "scatterternary": [
           {
            "marker": {
             "colorbar": {
              "outlinewidth": 0,
              "ticks": ""
             }
            },
            "type": "scatterternary"
           }
          ],
          "surface": [
           {
            "colorbar": {
             "outlinewidth": 0,
             "ticks": ""
            },
            "colorscale": [
             [
              0,
              "#0d0887"
             ],
             [
              0.1111111111111111,
              "#46039f"
             ],
             [
              0.2222222222222222,
              "#7201a8"
             ],
             [
              0.3333333333333333,
              "#9c179e"
             ],
             [
              0.4444444444444444,
              "#bd3786"
             ],
             [
              0.5555555555555556,
              "#d8576b"
             ],
             [
              0.6666666666666666,
              "#ed7953"
             ],
             [
              0.7777777777777778,
              "#fb9f3a"
             ],
             [
              0.8888888888888888,
              "#fdca26"
             ],
             [
              1,
              "#f0f921"
             ]
            ],
            "type": "surface"
           }
          ],
          "table": [
           {
            "cells": {
             "fill": {
              "color": "#EBF0F8"
             },
             "line": {
              "color": "white"
             }
            },
            "header": {
             "fill": {
              "color": "#C8D4E3"
             },
             "line": {
              "color": "white"
             }
            },
            "type": "table"
           }
          ]
         },
         "layout": {
          "annotationdefaults": {
           "arrowcolor": "#2a3f5f",
           "arrowhead": 0,
           "arrowwidth": 1
          },
          "coloraxis": {
           "colorbar": {
            "outlinewidth": 0,
            "ticks": ""
           }
          },
          "colorscale": {
           "diverging": [
            [
             0,
             "#8e0152"
            ],
            [
             0.1,
             "#c51b7d"
            ],
            [
             0.2,
             "#de77ae"
            ],
            [
             0.3,
             "#f1b6da"
            ],
            [
             0.4,
             "#fde0ef"
            ],
            [
             0.5,
             "#f7f7f7"
            ],
            [
             0.6,
             "#e6f5d0"
            ],
            [
             0.7,
             "#b8e186"
            ],
            [
             0.8,
             "#7fbc41"
            ],
            [
             0.9,
             "#4d9221"
            ],
            [
             1,
             "#276419"
            ]
           ],
           "sequential": [
            [
             0,
             "#0d0887"
            ],
            [
             0.1111111111111111,
             "#46039f"
            ],
            [
             0.2222222222222222,
             "#7201a8"
            ],
            [
             0.3333333333333333,
             "#9c179e"
            ],
            [
             0.4444444444444444,
             "#bd3786"
            ],
            [
             0.5555555555555556,
             "#d8576b"
            ],
            [
             0.6666666666666666,
             "#ed7953"
            ],
            [
             0.7777777777777778,
             "#fb9f3a"
            ],
            [
             0.8888888888888888,
             "#fdca26"
            ],
            [
             1,
             "#f0f921"
            ]
           ],
           "sequentialminus": [
            [
             0,
             "#0d0887"
            ],
            [
             0.1111111111111111,
             "#46039f"
            ],
            [
             0.2222222222222222,
             "#7201a8"
            ],
            [
             0.3333333333333333,
             "#9c179e"
            ],
            [
             0.4444444444444444,
             "#bd3786"
            ],
            [
             0.5555555555555556,
             "#d8576b"
            ],
            [
             0.6666666666666666,
             "#ed7953"
            ],
            [
             0.7777777777777778,
             "#fb9f3a"
            ],
            [
             0.8888888888888888,
             "#fdca26"
            ],
            [
             1,
             "#f0f921"
            ]
           ]
          },
          "colorway": [
           "#636efa",
           "#EF553B",
           "#00cc96",
           "#ab63fa",
           "#FFA15A",
           "#19d3f3",
           "#FF6692",
           "#B6E880",
           "#FF97FF",
           "#FECB52"
          ],
          "font": {
           "color": "#2a3f5f"
          },
          "geo": {
           "bgcolor": "white",
           "lakecolor": "white",
           "landcolor": "#E5ECF6",
           "showlakes": true,
           "showland": true,
           "subunitcolor": "white"
          },
          "hoverlabel": {
           "align": "left"
          },
          "hovermode": "closest",
          "mapbox": {
           "style": "light"
          },
          "paper_bgcolor": "white",
          "plot_bgcolor": "#E5ECF6",
          "polar": {
           "angularaxis": {
            "gridcolor": "white",
            "linecolor": "white",
            "ticks": ""
           },
           "bgcolor": "#E5ECF6",
           "radialaxis": {
            "gridcolor": "white",
            "linecolor": "white",
            "ticks": ""
           }
          },
          "scene": {
           "xaxis": {
            "backgroundcolor": "#E5ECF6",
            "gridcolor": "white",
            "gridwidth": 2,
            "linecolor": "white",
            "showbackground": true,
            "ticks": "",
            "zerolinecolor": "white"
           },
           "yaxis": {
            "backgroundcolor": "#E5ECF6",
            "gridcolor": "white",
            "gridwidth": 2,
            "linecolor": "white",
            "showbackground": true,
            "ticks": "",
            "zerolinecolor": "white"
           },
           "zaxis": {
            "backgroundcolor": "#E5ECF6",
            "gridcolor": "white",
            "gridwidth": 2,
            "linecolor": "white",
            "showbackground": true,
            "ticks": "",
            "zerolinecolor": "white"
           }
          },
          "shapedefaults": {
           "line": {
            "color": "#2a3f5f"
           }
          },
          "ternary": {
           "aaxis": {
            "gridcolor": "white",
            "linecolor": "white",
            "ticks": ""
           },
           "baxis": {
            "gridcolor": "white",
            "linecolor": "white",
            "ticks": ""
           },
           "bgcolor": "#E5ECF6",
           "caxis": {
            "gridcolor": "white",
            "linecolor": "white",
            "ticks": ""
           }
          },
          "title": {
           "x": 0.05
          },
          "xaxis": {
           "automargin": true,
           "gridcolor": "white",
           "linecolor": "white",
           "ticks": "",
           "title": {
            "standoff": 15
           },
           "zerolinecolor": "white",
           "zerolinewidth": 2
          },
          "yaxis": {
           "automargin": true,
           "gridcolor": "white",
           "linecolor": "white",
           "ticks": "",
           "title": {
            "standoff": 15
           },
           "zerolinecolor": "white",
           "zerolinewidth": 2
          }
         }
        },
        "width": 800,
        "xaxis": {
         "anchor": "y",
         "domain": [
          0,
          0.45
         ]
        },
        "xaxis2": {
         "anchor": "y2",
         "domain": [
          0.55,
          1
         ]
        },
        "yaxis": {
         "anchor": "x",
         "domain": [
          0,
          1
         ]
        },
        "yaxis2": {
         "anchor": "x2",
         "domain": [
          0,
          1
         ]
        }
       }
      },
      "text/html": [
       "<div>\n",
       "        \n",
       "        \n",
       "            <div id=\"b69277c8-ba88-46c4-b93f-0e9aa8814d4b\" class=\"plotly-graph-div\" style=\"height:600px; width:800px;\"></div>\n",
       "            <script type=\"text/javascript\">\n",
       "                require([\"plotly\"], function(Plotly) {\n",
       "                    window.PLOTLYENV=window.PLOTLYENV || {};\n",
       "                    \n",
       "                if (document.getElementById(\"b69277c8-ba88-46c4-b93f-0e9aa8814d4b\")) {\n",
       "                    Plotly.newPlot(\n",
       "                        'b69277c8-ba88-46c4-b93f-0e9aa8814d4b',\n",
       "                        [{\"type\": \"scatter\", \"x\": [2010, 2011, 2012, 2013, 2014, 2015, 2016, 2017, 2018], \"xaxis\": \"x\", \"y\": [21298778411.0, 27440061402.0, 27622357137.0, 28674357727.0, 33072330254.0, 31861575356.0, 29651124211.0, 35424966742.0, 40724352281.0], \"yaxis\": \"y\"}, {\"type\": \"scatter\", \"x\": [2010, 2011, 2012, 2013, 2014, 2015, 2016, 2017, 2018], \"xaxis\": \"x2\", \"y\": [40932300176.0, 51765264908.0, 54331322678.0, 54000196604.0, 64469716810.0, 51911189017.0, 53410324854.0, 57261407760.0, 58221255218.0], \"yaxis\": \"y2\"}],\n",
       "                        {\"annotations\": [{\"font\": {\"size\": 16}, \"showarrow\": false, \"text\": \"Total Road Vehicle Exports from China\", \"x\": 0.225, \"xanchor\": \"center\", \"xref\": \"paper\", \"y\": 1.0, \"yanchor\": \"bottom\", \"yref\": \"paper\"}, {\"font\": {\"size\": 16}, \"showarrow\": false, \"text\": \"Total Road Vehicle Imports to China\", \"x\": 0.775, \"xanchor\": \"center\", \"xref\": \"paper\", \"y\": 1.0, \"yanchor\": \"bottom\", \"yref\": \"paper\"}], \"height\": 600, \"showlegend\": false, \"template\": {\"data\": {\"bar\": [{\"error_x\": {\"color\": \"#2a3f5f\"}, \"error_y\": {\"color\": \"#2a3f5f\"}, \"marker\": {\"line\": {\"color\": \"#E5ECF6\", \"width\": 0.5}}, \"type\": \"bar\"}], \"barpolar\": [{\"marker\": {\"line\": {\"color\": \"#E5ECF6\", \"width\": 0.5}}, \"type\": \"barpolar\"}], \"carpet\": [{\"aaxis\": {\"endlinecolor\": \"#2a3f5f\", \"gridcolor\": \"white\", \"linecolor\": \"white\", \"minorgridcolor\": \"white\", \"startlinecolor\": \"#2a3f5f\"}, \"baxis\": {\"endlinecolor\": \"#2a3f5f\", \"gridcolor\": \"white\", \"linecolor\": \"white\", \"minorgridcolor\": \"white\", \"startlinecolor\": \"#2a3f5f\"}, \"type\": \"carpet\"}], \"choropleth\": [{\"colorbar\": {\"outlinewidth\": 0, \"ticks\": \"\"}, \"type\": \"choropleth\"}], \"contour\": [{\"colorbar\": {\"outlinewidth\": 0, \"ticks\": \"\"}, \"colorscale\": [[0.0, \"#0d0887\"], [0.1111111111111111, \"#46039f\"], [0.2222222222222222, \"#7201a8\"], [0.3333333333333333, \"#9c179e\"], [0.4444444444444444, \"#bd3786\"], [0.5555555555555556, \"#d8576b\"], [0.6666666666666666, \"#ed7953\"], [0.7777777777777778, \"#fb9f3a\"], [0.8888888888888888, \"#fdca26\"], [1.0, \"#f0f921\"]], \"type\": \"contour\"}], \"contourcarpet\": [{\"colorbar\": {\"outlinewidth\": 0, \"ticks\": \"\"}, \"type\": \"contourcarpet\"}], \"heatmap\": [{\"colorbar\": {\"outlinewidth\": 0, \"ticks\": \"\"}, \"colorscale\": [[0.0, \"#0d0887\"], [0.1111111111111111, \"#46039f\"], [0.2222222222222222, \"#7201a8\"], [0.3333333333333333, \"#9c179e\"], [0.4444444444444444, \"#bd3786\"], [0.5555555555555556, \"#d8576b\"], [0.6666666666666666, \"#ed7953\"], [0.7777777777777778, \"#fb9f3a\"], [0.8888888888888888, \"#fdca26\"], [1.0, \"#f0f921\"]], \"type\": \"heatmap\"}], \"heatmapgl\": [{\"colorbar\": {\"outlinewidth\": 0, \"ticks\": \"\"}, \"colorscale\": [[0.0, \"#0d0887\"], [0.1111111111111111, \"#46039f\"], [0.2222222222222222, \"#7201a8\"], [0.3333333333333333, \"#9c179e\"], [0.4444444444444444, \"#bd3786\"], [0.5555555555555556, \"#d8576b\"], [0.6666666666666666, \"#ed7953\"], [0.7777777777777778, \"#fb9f3a\"], [0.8888888888888888, \"#fdca26\"], [1.0, \"#f0f921\"]], \"type\": \"heatmapgl\"}], \"histogram\": [{\"marker\": {\"colorbar\": {\"outlinewidth\": 0, \"ticks\": \"\"}}, \"type\": \"histogram\"}], \"histogram2d\": [{\"colorbar\": {\"outlinewidth\": 0, \"ticks\": \"\"}, \"colorscale\": [[0.0, \"#0d0887\"], [0.1111111111111111, \"#46039f\"], [0.2222222222222222, \"#7201a8\"], [0.3333333333333333, \"#9c179e\"], [0.4444444444444444, \"#bd3786\"], [0.5555555555555556, \"#d8576b\"], [0.6666666666666666, \"#ed7953\"], [0.7777777777777778, \"#fb9f3a\"], [0.8888888888888888, \"#fdca26\"], [1.0, \"#f0f921\"]], \"type\": \"histogram2d\"}], \"histogram2dcontour\": [{\"colorbar\": {\"outlinewidth\": 0, \"ticks\": \"\"}, \"colorscale\": [[0.0, \"#0d0887\"], [0.1111111111111111, \"#46039f\"], [0.2222222222222222, \"#7201a8\"], [0.3333333333333333, \"#9c179e\"], [0.4444444444444444, \"#bd3786\"], [0.5555555555555556, \"#d8576b\"], [0.6666666666666666, \"#ed7953\"], [0.7777777777777778, \"#fb9f3a\"], [0.8888888888888888, \"#fdca26\"], [1.0, \"#f0f921\"]], \"type\": \"histogram2dcontour\"}], \"mesh3d\": [{\"colorbar\": {\"outlinewidth\": 0, \"ticks\": \"\"}, \"type\": \"mesh3d\"}], \"parcoords\": [{\"line\": {\"colorbar\": {\"outlinewidth\": 0, \"ticks\": \"\"}}, \"type\": \"parcoords\"}], \"pie\": [{\"automargin\": true, \"type\": \"pie\"}], \"scatter\": [{\"marker\": {\"colorbar\": {\"outlinewidth\": 0, \"ticks\": \"\"}}, \"type\": \"scatter\"}], \"scatter3d\": [{\"line\": {\"colorbar\": {\"outlinewidth\": 0, \"ticks\": \"\"}}, \"marker\": {\"colorbar\": {\"outlinewidth\": 0, \"ticks\": \"\"}}, \"type\": \"scatter3d\"}], \"scattercarpet\": [{\"marker\": {\"colorbar\": {\"outlinewidth\": 0, \"ticks\": \"\"}}, \"type\": \"scattercarpet\"}], \"scattergeo\": [{\"marker\": {\"colorbar\": {\"outlinewidth\": 0, \"ticks\": \"\"}}, \"type\": \"scattergeo\"}], \"scattergl\": [{\"marker\": {\"colorbar\": {\"outlinewidth\": 0, \"ticks\": \"\"}}, \"type\": \"scattergl\"}], \"scattermapbox\": [{\"marker\": {\"colorbar\": {\"outlinewidth\": 0, \"ticks\": \"\"}}, \"type\": \"scattermapbox\"}], \"scatterpolar\": [{\"marker\": {\"colorbar\": {\"outlinewidth\": 0, \"ticks\": \"\"}}, \"type\": \"scatterpolar\"}], \"scatterpolargl\": [{\"marker\": {\"colorbar\": {\"outlinewidth\": 0, \"ticks\": \"\"}}, \"type\": \"scatterpolargl\"}], \"scatterternary\": [{\"marker\": {\"colorbar\": {\"outlinewidth\": 0, \"ticks\": \"\"}}, \"type\": \"scatterternary\"}], \"surface\": [{\"colorbar\": {\"outlinewidth\": 0, \"ticks\": \"\"}, \"colorscale\": [[0.0, \"#0d0887\"], [0.1111111111111111, \"#46039f\"], [0.2222222222222222, \"#7201a8\"], [0.3333333333333333, \"#9c179e\"], [0.4444444444444444, \"#bd3786\"], [0.5555555555555556, \"#d8576b\"], [0.6666666666666666, \"#ed7953\"], [0.7777777777777778, \"#fb9f3a\"], [0.8888888888888888, \"#fdca26\"], [1.0, \"#f0f921\"]], \"type\": \"surface\"}], \"table\": [{\"cells\": {\"fill\": {\"color\": \"#EBF0F8\"}, \"line\": {\"color\": \"white\"}}, \"header\": {\"fill\": {\"color\": \"#C8D4E3\"}, \"line\": {\"color\": \"white\"}}, \"type\": \"table\"}]}, \"layout\": {\"annotationdefaults\": {\"arrowcolor\": \"#2a3f5f\", \"arrowhead\": 0, \"arrowwidth\": 1}, \"coloraxis\": {\"colorbar\": {\"outlinewidth\": 0, \"ticks\": \"\"}}, \"colorscale\": {\"diverging\": [[0, \"#8e0152\"], [0.1, \"#c51b7d\"], [0.2, \"#de77ae\"], [0.3, \"#f1b6da\"], [0.4, \"#fde0ef\"], [0.5, \"#f7f7f7\"], [0.6, \"#e6f5d0\"], [0.7, \"#b8e186\"], [0.8, \"#7fbc41\"], [0.9, \"#4d9221\"], [1, \"#276419\"]], \"sequential\": [[0.0, \"#0d0887\"], [0.1111111111111111, \"#46039f\"], [0.2222222222222222, \"#7201a8\"], [0.3333333333333333, \"#9c179e\"], [0.4444444444444444, \"#bd3786\"], [0.5555555555555556, \"#d8576b\"], [0.6666666666666666, \"#ed7953\"], [0.7777777777777778, \"#fb9f3a\"], [0.8888888888888888, \"#fdca26\"], [1.0, \"#f0f921\"]], \"sequentialminus\": [[0.0, \"#0d0887\"], [0.1111111111111111, \"#46039f\"], [0.2222222222222222, \"#7201a8\"], [0.3333333333333333, \"#9c179e\"], [0.4444444444444444, \"#bd3786\"], [0.5555555555555556, \"#d8576b\"], [0.6666666666666666, \"#ed7953\"], [0.7777777777777778, \"#fb9f3a\"], [0.8888888888888888, \"#fdca26\"], [1.0, \"#f0f921\"]]}, \"colorway\": [\"#636efa\", \"#EF553B\", \"#00cc96\", \"#ab63fa\", \"#FFA15A\", \"#19d3f3\", \"#FF6692\", \"#B6E880\", \"#FF97FF\", \"#FECB52\"], \"font\": {\"color\": \"#2a3f5f\"}, \"geo\": {\"bgcolor\": \"white\", \"lakecolor\": \"white\", \"landcolor\": \"#E5ECF6\", \"showlakes\": true, \"showland\": true, \"subunitcolor\": \"white\"}, \"hoverlabel\": {\"align\": \"left\"}, \"hovermode\": \"closest\", \"mapbox\": {\"style\": \"light\"}, \"paper_bgcolor\": \"white\", \"plot_bgcolor\": \"#E5ECF6\", \"polar\": {\"angularaxis\": {\"gridcolor\": \"white\", \"linecolor\": \"white\", \"ticks\": \"\"}, \"bgcolor\": \"#E5ECF6\", \"radialaxis\": {\"gridcolor\": \"white\", \"linecolor\": \"white\", \"ticks\": \"\"}}, \"scene\": {\"xaxis\": {\"backgroundcolor\": \"#E5ECF6\", \"gridcolor\": \"white\", \"gridwidth\": 2, \"linecolor\": \"white\", \"showbackground\": true, \"ticks\": \"\", \"zerolinecolor\": \"white\"}, \"yaxis\": {\"backgroundcolor\": \"#E5ECF6\", \"gridcolor\": \"white\", \"gridwidth\": 2, \"linecolor\": \"white\", \"showbackground\": true, \"ticks\": \"\", \"zerolinecolor\": \"white\"}, \"zaxis\": {\"backgroundcolor\": \"#E5ECF6\", \"gridcolor\": \"white\", \"gridwidth\": 2, \"linecolor\": \"white\", \"showbackground\": true, \"ticks\": \"\", \"zerolinecolor\": \"white\"}}, \"shapedefaults\": {\"line\": {\"color\": \"#2a3f5f\"}}, \"ternary\": {\"aaxis\": {\"gridcolor\": \"white\", \"linecolor\": \"white\", \"ticks\": \"\"}, \"baxis\": {\"gridcolor\": \"white\", \"linecolor\": \"white\", \"ticks\": \"\"}, \"bgcolor\": \"#E5ECF6\", \"caxis\": {\"gridcolor\": \"white\", \"linecolor\": \"white\", \"ticks\": \"\"}}, \"title\": {\"x\": 0.05}, \"xaxis\": {\"automargin\": true, \"gridcolor\": \"white\", \"linecolor\": \"white\", \"ticks\": \"\", \"title\": {\"standoff\": 15}, \"zerolinecolor\": \"white\", \"zerolinewidth\": 2}, \"yaxis\": {\"automargin\": true, \"gridcolor\": \"white\", \"linecolor\": \"white\", \"ticks\": \"\", \"title\": {\"standoff\": 15}, \"zerolinecolor\": \"white\", \"zerolinewidth\": 2}}}, \"width\": 800, \"xaxis\": {\"anchor\": \"y\", \"domain\": [0.0, 0.45]}, \"xaxis2\": {\"anchor\": \"y2\", \"domain\": [0.55, 1.0]}, \"yaxis\": {\"anchor\": \"x\", \"domain\": [0.0, 1.0]}, \"yaxis2\": {\"anchor\": \"x2\", \"domain\": [0.0, 1.0]}},\n",
       "                        {\"responsive\": true}\n",
       "                    ).then(function(){\n",
       "                            \n",
       "var gd = document.getElementById('b69277c8-ba88-46c4-b93f-0e9aa8814d4b');\n",
       "var x = new MutationObserver(function (mutations, observer) {{\n",
       "        var display = window.getComputedStyle(gd).display;\n",
       "        if (!display || display === 'none') {{\n",
       "            console.log([gd, 'removed!']);\n",
       "            Plotly.purge(gd);\n",
       "            observer.disconnect();\n",
       "        }}\n",
       "}});\n",
       "\n",
       "// Listen for the removal of the full notebook cells\n",
       "var notebookContainer = gd.closest('#notebook-container');\n",
       "if (notebookContainer) {{\n",
       "    x.observe(notebookContainer, {childList: true});\n",
       "}}\n",
       "\n",
       "// Listen for the clearing of the current output cell\n",
       "var outputEl = gd.closest('.output');\n",
       "if (outputEl) {{\n",
       "    x.observe(outputEl, {childList: true});\n",
       "}}\n",
       "\n",
       "                        })\n",
       "                };\n",
       "                });\n",
       "            </script>\n",
       "        </div>"
      ]
     },
     "metadata": {},
     "output_type": "display_data"
    }
   ],
   "source": [
    "df = trade[trade.Commodity == 'Road vehicles (including air-cushion vehicles)']\n",
    "df = df.groupby('Year')[['Export', 'Import']].sum().reset_index()\n",
    "fig = make_subplots(rows=1, cols=2, subplot_titles=(\"Total Road Vehicle Exports from China\", \"Total Road Vehicle Imports to China\"))\n",
    "\n",
    "fig.add_trace(\n",
    "    go.Scatter(x=df['Year'], y=df['Export']),\n",
    "    row=1, col=1\n",
    ")\n",
    "\n",
    "fig.add_trace(\n",
    "    go.Scatter(x=df['Year'], y=df['Import']),\n",
    "    row=1, col=2\n",
    ")\n",
    "fig.update_layout(height=600, width=800, showlegend=False)\n",
    "fig.show()"
   ]
  },
  {
   "cell_type": "code",
   "execution_count": 77,
   "metadata": {},
   "outputs": [],
   "source": [
    "def plotie(country):\n",
    "    df = trade[trade.Commodity == 'Road vehicles (including air-cushion vehicles)']\n",
    "    df = df[df.Partner == country]\n",
    "    title1 = \"Road Vehicle Exports from China to \" + country\n",
    "    title2 = \"Road Vehicle Imports to China from \" + country\n",
    "    fig = make_subplots(rows=1, cols=2, subplot_titles=(title1, title2))\n",
    "\n",
    "    fig.add_trace(\n",
    "        go.Scatter(x=df['Year'], y=df['Export']),\n",
    "        row=1, col=1\n",
    "    )\n",
    "\n",
    "    fig.add_trace(\n",
    "        go.Scatter(x=df['Year'], y=df['Import']),\n",
    "        row=1, col=2\n",
    "    )\n",
    "    fig.update_layout(height=600, width=800, showlegend=False)\n",
    "    fig.show()"
   ]
  },
  {
   "cell_type": "code",
   "execution_count": 78,
   "metadata": {},
   "outputs": [
    {
     "data": {
      "application/vnd.jupyter.widget-view+json": {
       "model_id": "162630379b2642d89529ec78eabe7d35",
       "version_major": 2,
       "version_minor": 0
      },
      "text/plain": [
       "interactive(children=(Dropdown(description='country', options=('France', 'USA', 'Rep. of Korea'), value='Franc…"
      ]
     },
     "metadata": {},
     "output_type": "display_data"
    },
    {
     "data": {
      "text/plain": [
       "<function __main__.plotie(country)>"
      ]
     },
     "execution_count": 78,
     "metadata": {},
     "output_type": "execute_result"
    }
   ],
   "source": [
    "country = ['France', 'USA', 'Rep. of Korea']\n",
    "widgets.interact(plotie, country=country)"
   ]
  },
  {
   "cell_type": "markdown",
   "metadata": {},
   "source": [
    "### 5. Petroleum\n",
    "\n",
    "1. Reflecting its relative abundance of natural resources and low-wage labour, China's main export items are predominantly natural resource-based products (e.g. food and mineral products such as crude petroleum and coal) [(Fukusaku, OECD)](https://www.oecd.org/dev/1919406.pdf)\n",
    "2. China is second largest consumer of OIL. This can also be seen from [increased consumption of OIL](https://www.reuters.com/article/us-global-oil-demand-analysis-idUSKBN23A0XF) by China in May, 2020 which was seen as China recovering from the impact of Covid - 19."
   ]
  },
  {
   "cell_type": "markdown",
   "metadata": {},
   "source": [
    "#  <center><img src=\"https://gabnewsonline.com/clients/gabnewsonline/6-22-2020-4-07-54-AM-1084344.jpg\" style=\"width:1000px;height:600px\"></center>"
   ]
  }
 ],
 "metadata": {
  "kernelspec": {
   "display_name": "Python 3",
   "language": "python",
   "name": "python3"
  },
  "language_info": {
   "codemirror_mode": {
    "name": "ipython",
    "version": 3
   },
   "file_extension": ".py",
   "mimetype": "text/x-python",
   "name": "python",
   "nbconvert_exporter": "python",
   "pygments_lexer": "ipython3",
   "version": "3.7.6"
  }
 },
 "nbformat": 4,
 "nbformat_minor": 4
}
