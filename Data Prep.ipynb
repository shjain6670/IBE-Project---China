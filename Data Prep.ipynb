{
 "cells": [
  {
   "cell_type": "code",
   "execution_count": 1,
   "metadata": {},
   "outputs": [],
   "source": [
    "import numpy as np \n",
    "import pandas as pd"
   ]
  },
  {
   "cell_type": "code",
   "execution_count": 2,
   "metadata": {},
   "outputs": [
    {
     "data": {
      "text/html": [
       "<div>\n",
       "<style scoped>\n",
       "    .dataframe tbody tr th:only-of-type {\n",
       "        vertical-align: middle;\n",
       "    }\n",
       "\n",
       "    .dataframe tbody tr th {\n",
       "        vertical-align: top;\n",
       "    }\n",
       "\n",
       "    .dataframe thead th {\n",
       "        text-align: right;\n",
       "    }\n",
       "</style>\n",
       "<table border=\"1\" class=\"dataframe\">\n",
       "  <thead>\n",
       "    <tr style=\"text-align: right;\">\n",
       "      <th></th>\n",
       "      <th>Year</th>\n",
       "      <th>Trade Flow</th>\n",
       "      <th>Partner</th>\n",
       "      <th>Commodity</th>\n",
       "      <th>Trade Value (US$)</th>\n",
       "    </tr>\n",
       "  </thead>\n",
       "  <tbody>\n",
       "    <tr>\n",
       "      <th>0</th>\n",
       "      <td>2010</td>\n",
       "      <td>Import</td>\n",
       "      <td>Germany</td>\n",
       "      <td>Live animals other than animals of division 03</td>\n",
       "      <td>2062530</td>\n",
       "    </tr>\n",
       "    <tr>\n",
       "      <th>1</th>\n",
       "      <td>2010</td>\n",
       "      <td>Export</td>\n",
       "      <td>Germany</td>\n",
       "      <td>Live animals other than animals of division 03</td>\n",
       "      <td>590391</td>\n",
       "    </tr>\n",
       "    <tr>\n",
       "      <th>2</th>\n",
       "      <td>2010</td>\n",
       "      <td>Import</td>\n",
       "      <td>China, Hong Kong SAR</td>\n",
       "      <td>Live animals other than animals of division 03</td>\n",
       "      <td>18454</td>\n",
       "    </tr>\n",
       "    <tr>\n",
       "      <th>3</th>\n",
       "      <td>2010</td>\n",
       "      <td>Export</td>\n",
       "      <td>China, Hong Kong SAR</td>\n",
       "      <td>Live animals other than animals of division 03</td>\n",
       "      <td>379413479</td>\n",
       "    </tr>\n",
       "    <tr>\n",
       "      <th>4</th>\n",
       "      <td>2010</td>\n",
       "      <td>Import</td>\n",
       "      <td>Japan</td>\n",
       "      <td>Live animals other than animals of division 03</td>\n",
       "      <td>3273569</td>\n",
       "    </tr>\n",
       "  </tbody>\n",
       "</table>\n",
       "</div>"
      ],
      "text/plain": [
       "   Year Trade Flow               Partner  \\\n",
       "0  2010     Import               Germany   \n",
       "1  2010     Export               Germany   \n",
       "2  2010     Import  China, Hong Kong SAR   \n",
       "3  2010     Export  China, Hong Kong SAR   \n",
       "4  2010     Import                 Japan   \n",
       "\n",
       "                                        Commodity  Trade Value (US$)  \n",
       "0  Live animals other than animals of division 03            2062530  \n",
       "1  Live animals other than animals of division 03             590391  \n",
       "2  Live animals other than animals of division 03              18454  \n",
       "3  Live animals other than animals of division 03          379413479  \n",
       "4  Live animals other than animals of division 03            3273569  "
      ]
     },
     "execution_count": 2,
     "metadata": {},
     "output_type": "execute_result"
    }
   ],
   "source": [
    "trade = pd.read_csv('comtrade.csv')[['Year', 'Trade Flow', 'Partner', 'Commodity', 'Trade Value (US$)']]\n",
    "trade.head()"
   ]
  },
  {
   "cell_type": "code",
   "execution_count": 3,
   "metadata": {},
   "outputs": [
    {
     "data": {
      "text/plain": [
       "array(['Germany', 'China, Hong Kong SAR', 'Japan', 'Rep. of Korea', 'USA',\n",
       "       'Australia', 'France', 'Russian Federation', 'India', 'Viet Nam'],\n",
       "      dtype=object)"
      ]
     },
     "execution_count": 3,
     "metadata": {},
     "output_type": "execute_result"
    }
   ],
   "source": [
    "files = ['comtrade (1).csv', 'comtrade (2).csv', 'comtrade (3).csv']\n",
    "\n",
    "for f in files:\n",
    "    df = pd.read_csv(f)[['Year', 'Trade Flow', 'Partner', 'Commodity', 'Trade Value (US$)']]\n",
    "    trade = pd.concat([trade, df])\n",
    "\n",
    "trade.Partner.unique()"
   ]
  },
  {
   "cell_type": "code",
   "execution_count": 4,
   "metadata": {},
   "outputs": [
    {
     "data": {
      "text/html": [
       "<div>\n",
       "<style scoped>\n",
       "    .dataframe tbody tr th:only-of-type {\n",
       "        vertical-align: middle;\n",
       "    }\n",
       "\n",
       "    .dataframe tbody tr th {\n",
       "        vertical-align: top;\n",
       "    }\n",
       "\n",
       "    .dataframe thead th {\n",
       "        text-align: right;\n",
       "    }\n",
       "</style>\n",
       "<table border=\"1\" class=\"dataframe\">\n",
       "  <thead>\n",
       "    <tr style=\"text-align: right;\">\n",
       "      <th></th>\n",
       "      <th>Year</th>\n",
       "      <th>Trade Flow</th>\n",
       "      <th>Partner</th>\n",
       "      <th>Commodity</th>\n",
       "      <th>Trade Value (US$)</th>\n",
       "    </tr>\n",
       "  </thead>\n",
       "  <tbody>\n",
       "    <tr>\n",
       "      <th>0</th>\n",
       "      <td>2010</td>\n",
       "      <td>Import</td>\n",
       "      <td>Germany</td>\n",
       "      <td>Live animals other than animals of division 03</td>\n",
       "      <td>2062530</td>\n",
       "    </tr>\n",
       "    <tr>\n",
       "      <th>1</th>\n",
       "      <td>2010</td>\n",
       "      <td>Export</td>\n",
       "      <td>Germany</td>\n",
       "      <td>Live animals other than animals of division 03</td>\n",
       "      <td>590391</td>\n",
       "    </tr>\n",
       "    <tr>\n",
       "      <th>2</th>\n",
       "      <td>2010</td>\n",
       "      <td>Import</td>\n",
       "      <td>China, Hong Kong SAR</td>\n",
       "      <td>Live animals other than animals of division 03</td>\n",
       "      <td>18454</td>\n",
       "    </tr>\n",
       "    <tr>\n",
       "      <th>3</th>\n",
       "      <td>2010</td>\n",
       "      <td>Export</td>\n",
       "      <td>China, Hong Kong SAR</td>\n",
       "      <td>Live animals other than animals of division 03</td>\n",
       "      <td>379413479</td>\n",
       "    </tr>\n",
       "    <tr>\n",
       "      <th>4</th>\n",
       "      <td>2010</td>\n",
       "      <td>Import</td>\n",
       "      <td>Japan</td>\n",
       "      <td>Live animals other than animals of division 03</td>\n",
       "      <td>3273569</td>\n",
       "    </tr>\n",
       "  </tbody>\n",
       "</table>\n",
       "</div>"
      ],
      "text/plain": [
       "   Year Trade Flow               Partner  \\\n",
       "0  2010     Import               Germany   \n",
       "1  2010     Export               Germany   \n",
       "2  2010     Import  China, Hong Kong SAR   \n",
       "3  2010     Export  China, Hong Kong SAR   \n",
       "4  2010     Import                 Japan   \n",
       "\n",
       "                                        Commodity  Trade Value (US$)  \n",
       "0  Live animals other than animals of division 03            2062530  \n",
       "1  Live animals other than animals of division 03             590391  \n",
       "2  Live animals other than animals of division 03              18454  \n",
       "3  Live animals other than animals of division 03          379413479  \n",
       "4  Live animals other than animals of division 03            3273569  "
      ]
     },
     "execution_count": 4,
     "metadata": {},
     "output_type": "execute_result"
    }
   ],
   "source": [
    "trade.head()"
   ]
  },
  {
   "cell_type": "code",
   "execution_count": 5,
   "metadata": {},
   "outputs": [
    {
     "name": "stdout",
     "output_type": "stream",
     "text": [
      "<class 'pandas.core.frame.DataFrame'>\n",
      "Int64Index: 11345 entries, 0 to 2518\n",
      "Data columns (total 5 columns):\n",
      " #   Column             Non-Null Count  Dtype \n",
      "---  ------             --------------  ----- \n",
      " 0   Year               11345 non-null  int64 \n",
      " 1   Trade Flow         11345 non-null  object\n",
      " 2   Partner            11345 non-null  object\n",
      " 3   Commodity          11345 non-null  object\n",
      " 4   Trade Value (US$)  11345 non-null  int64 \n",
      "dtypes: int64(2), object(3)\n",
      "memory usage: 531.8+ KB\n"
     ]
    }
   ],
   "source": [
    "trade.info()"
   ]
  },
  {
   "cell_type": "code",
   "execution_count": 6,
   "metadata": {},
   "outputs": [],
   "source": [
    "trade.to_excel('Final Trade.xlsx', index=False)"
   ]
  },
  {
   "cell_type": "code",
   "execution_count": 7,
   "metadata": {},
   "outputs": [
    {
     "name": "stdout",
     "output_type": "stream",
     "text": [
      "<class 'pandas.core.frame.DataFrame'>\n",
      "Int64Index: 11345 entries, 0 to 2518\n",
      "Data columns (total 6 columns):\n",
      " #   Column             Non-Null Count  Dtype \n",
      "---  ------             --------------  ----- \n",
      " 0   Year               11345 non-null  object\n",
      " 1   Trade Flow         11345 non-null  object\n",
      " 2   Partner            11345 non-null  object\n",
      " 3   Commodity          11345 non-null  object\n",
      " 4   Trade Value (US$)  11345 non-null  int64 \n",
      " 5   Key                11345 non-null  object\n",
      "dtypes: int64(1), object(5)\n",
      "memory usage: 620.4+ KB\n"
     ]
    }
   ],
   "source": [
    "trade['Year'] = trade['Year'].astype(str)\n",
    "trade['Key'] = trade['Year'] + '_' + trade['Partner'] + '_' + trade['Commodity']\n",
    "trade.info()"
   ]
  },
  {
   "cell_type": "code",
   "execution_count": 8,
   "metadata": {},
   "outputs": [
    {
     "data": {
      "text/html": [
       "<div>\n",
       "<style scoped>\n",
       "    .dataframe tbody tr th:only-of-type {\n",
       "        vertical-align: middle;\n",
       "    }\n",
       "\n",
       "    .dataframe tbody tr th {\n",
       "        vertical-align: top;\n",
       "    }\n",
       "\n",
       "    .dataframe thead th {\n",
       "        text-align: right;\n",
       "    }\n",
       "</style>\n",
       "<table border=\"1\" class=\"dataframe\">\n",
       "  <thead>\n",
       "    <tr style=\"text-align: right;\">\n",
       "      <th>Trade Flow</th>\n",
       "      <th>Key</th>\n",
       "      <th>Export</th>\n",
       "      <th>Import</th>\n",
       "    </tr>\n",
       "  </thead>\n",
       "  <tbody>\n",
       "    <tr>\n",
       "      <th>0</th>\n",
       "      <td>2010_Australia_Animal oils and fats</td>\n",
       "      <td>7.181210e+05</td>\n",
       "      <td>182527050.0</td>\n",
       "    </tr>\n",
       "    <tr>\n",
       "      <th>1</th>\n",
       "      <td>2010_Australia_Animal or vegetable fats and oi...</td>\n",
       "      <td>2.253221e+06</td>\n",
       "      <td>52696.0</td>\n",
       "    </tr>\n",
       "    <tr>\n",
       "      <th>2</th>\n",
       "      <td>2010_Australia_Articles of apparel and clothin...</td>\n",
       "      <td>2.864312e+09</td>\n",
       "      <td>1066262.0</td>\n",
       "    </tr>\n",
       "    <tr>\n",
       "      <th>3</th>\n",
       "      <td>2010_Australia_Beverages</td>\n",
       "      <td>9.981302e+06</td>\n",
       "      <td>150243585.0</td>\n",
       "    </tr>\n",
       "    <tr>\n",
       "      <th>4</th>\n",
       "      <td>2010_Australia_Cereals and cereal preparations</td>\n",
       "      <td>3.724094e+07</td>\n",
       "      <td>526158840.0</td>\n",
       "    </tr>\n",
       "  </tbody>\n",
       "</table>\n",
       "</div>"
      ],
      "text/plain": [
       "Trade Flow                                                Key        Export  \\\n",
       "0                         2010_Australia_Animal oils and fats  7.181210e+05   \n",
       "1           2010_Australia_Animal or vegetable fats and oi...  2.253221e+06   \n",
       "2           2010_Australia_Articles of apparel and clothin...  2.864312e+09   \n",
       "3                                    2010_Australia_Beverages  9.981302e+06   \n",
       "4              2010_Australia_Cereals and cereal preparations  3.724094e+07   \n",
       "\n",
       "Trade Flow       Import  \n",
       "0           182527050.0  \n",
       "1               52696.0  \n",
       "2             1066262.0  \n",
       "3           150243585.0  \n",
       "4           526158840.0  "
      ]
     },
     "execution_count": 8,
     "metadata": {},
     "output_type": "execute_result"
    }
   ],
   "source": [
    "trade2 = pd.pivot_table(trade, values='Trade Value (US$)', index='Key', columns = 'Trade Flow', aggfunc=np.sum).reset_index()\n",
    "trade2.head()"
   ]
  },
  {
   "cell_type": "code",
   "execution_count": 9,
   "metadata": {},
   "outputs": [
    {
     "data": {
      "text/html": [
       "<div>\n",
       "<style scoped>\n",
       "    .dataframe tbody tr th:only-of-type {\n",
       "        vertical-align: middle;\n",
       "    }\n",
       "\n",
       "    .dataframe tbody tr th {\n",
       "        vertical-align: top;\n",
       "    }\n",
       "\n",
       "    .dataframe thead th {\n",
       "        text-align: right;\n",
       "    }\n",
       "</style>\n",
       "<table border=\"1\" class=\"dataframe\">\n",
       "  <thead>\n",
       "    <tr style=\"text-align: right;\">\n",
       "      <th>Trade Flow</th>\n",
       "      <th>Key</th>\n",
       "      <th>Export</th>\n",
       "      <th>Import</th>\n",
       "      <th>Year</th>\n",
       "      <th>Partner</th>\n",
       "      <th>Commodity</th>\n",
       "    </tr>\n",
       "  </thead>\n",
       "  <tbody>\n",
       "    <tr>\n",
       "      <th>0</th>\n",
       "      <td>2010_Australia_Animal oils and fats</td>\n",
       "      <td>7.181210e+05</td>\n",
       "      <td>182527050.0</td>\n",
       "      <td>2010</td>\n",
       "      <td>Australia</td>\n",
       "      <td>Animal oils and fats</td>\n",
       "    </tr>\n",
       "    <tr>\n",
       "      <th>1</th>\n",
       "      <td>2010_Australia_Animal or vegetable fats and oi...</td>\n",
       "      <td>2.253221e+06</td>\n",
       "      <td>52696.0</td>\n",
       "      <td>2010</td>\n",
       "      <td>Australia</td>\n",
       "      <td>Animal or vegetable fats and oils, processed; ...</td>\n",
       "    </tr>\n",
       "    <tr>\n",
       "      <th>2</th>\n",
       "      <td>2010_Australia_Articles of apparel and clothin...</td>\n",
       "      <td>2.864312e+09</td>\n",
       "      <td>1066262.0</td>\n",
       "      <td>2010</td>\n",
       "      <td>Australia</td>\n",
       "      <td>Articles of apparel and clothing accessories</td>\n",
       "    </tr>\n",
       "    <tr>\n",
       "      <th>3</th>\n",
       "      <td>2010_Australia_Beverages</td>\n",
       "      <td>9.981302e+06</td>\n",
       "      <td>150243585.0</td>\n",
       "      <td>2010</td>\n",
       "      <td>Australia</td>\n",
       "      <td>Beverages</td>\n",
       "    </tr>\n",
       "    <tr>\n",
       "      <th>4</th>\n",
       "      <td>2010_Australia_Cereals and cereal preparations</td>\n",
       "      <td>3.724094e+07</td>\n",
       "      <td>526158840.0</td>\n",
       "      <td>2010</td>\n",
       "      <td>Australia</td>\n",
       "      <td>Cereals and cereal preparations</td>\n",
       "    </tr>\n",
       "  </tbody>\n",
       "</table>\n",
       "</div>"
      ],
      "text/plain": [
       "Trade Flow                                                Key        Export  \\\n",
       "0                         2010_Australia_Animal oils and fats  7.181210e+05   \n",
       "1           2010_Australia_Animal or vegetable fats and oi...  2.253221e+06   \n",
       "2           2010_Australia_Articles of apparel and clothin...  2.864312e+09   \n",
       "3                                    2010_Australia_Beverages  9.981302e+06   \n",
       "4              2010_Australia_Cereals and cereal preparations  3.724094e+07   \n",
       "\n",
       "Trade Flow       Import  Year    Partner  \\\n",
       "0           182527050.0  2010  Australia   \n",
       "1               52696.0  2010  Australia   \n",
       "2             1066262.0  2010  Australia   \n",
       "3           150243585.0  2010  Australia   \n",
       "4           526158840.0  2010  Australia   \n",
       "\n",
       "Trade Flow                                          Commodity  \n",
       "0                                        Animal oils and fats  \n",
       "1           Animal or vegetable fats and oils, processed; ...  \n",
       "2                Articles of apparel and clothing accessories  \n",
       "3                                                   Beverages  \n",
       "4                             Cereals and cereal preparations  "
      ]
     },
     "execution_count": 9,
     "metadata": {},
     "output_type": "execute_result"
    }
   ],
   "source": [
    "trade2['Year'] = trade2['Key'].apply(lambda x: x.split('_')[0])\n",
    "trade2['Partner'] = trade2['Key'].apply(lambda x: x.split('_')[1])\n",
    "trade2['Commodity'] = trade2['Key'].apply(lambda x: x.split('_')[2])\n",
    "trade2.head()"
   ]
  },
  {
   "cell_type": "code",
   "execution_count": 10,
   "metadata": {},
   "outputs": [
    {
     "name": "stdout",
     "output_type": "stream",
     "text": [
      "<class 'pandas.core.frame.DataFrame'>\n",
      "RangeIndex: 5808 entries, 0 to 5807\n",
      "Data columns (total 5 columns):\n",
      " #   Column     Non-Null Count  Dtype  \n",
      "---  ------     --------------  -----  \n",
      " 0   Export     5721 non-null   float64\n",
      " 1   Import     5624 non-null   float64\n",
      " 2   Year       5808 non-null   int64  \n",
      " 3   Partner    5808 non-null   object \n",
      " 4   Commodity  5808 non-null   object \n",
      "dtypes: float64(2), int64(1), object(2)\n",
      "memory usage: 227.0+ KB\n"
     ]
    }
   ],
   "source": [
    "trade2.drop(columns='Key', inplace=True)\n",
    "trade2.Year = trade2.Year.astype('int64')\n",
    "trade2.info()"
   ]
  },
  {
   "cell_type": "code",
   "execution_count": 11,
   "metadata": {},
   "outputs": [],
   "source": [
    "trade2.to_excel('Final Trade2.xlsx', index=False)"
   ]
  },
  {
   "cell_type": "code",
   "execution_count": 12,
   "metadata": {},
   "outputs": [
    {
     "data": {
      "text/plain": [
       "array([2010, 2011, 2012, 2013, 2014, 2015, 2016, 2017, 2018], dtype=int64)"
      ]
     },
     "execution_count": 12,
     "metadata": {},
     "output_type": "execute_result"
    }
   ],
   "source": [
    "trade2.Year.unique()"
   ]
  },
  {
   "cell_type": "markdown",
   "metadata": {},
   "source": [
    "# World"
   ]
  },
  {
   "cell_type": "code",
   "execution_count": 13,
   "metadata": {},
   "outputs": [
    {
     "data": {
      "text/plain": [
       "['comtrade (5).csv', 'comtrade (6).csv', 'comtrade (7).csv']"
      ]
     },
     "execution_count": 13,
     "metadata": {},
     "output_type": "execute_result"
    }
   ],
   "source": [
    "files = []\n",
    "for i in range(5, 8, 1):\n",
    "    file = \"comtrade (\" + str(i) + \").csv\"\n",
    "    files.append(file)\n",
    "\n",
    "files"
   ]
  },
  {
   "cell_type": "code",
   "execution_count": 14,
   "metadata": {},
   "outputs": [
    {
     "data": {
      "text/html": [
       "<div>\n",
       "<style scoped>\n",
       "    .dataframe tbody tr th:only-of-type {\n",
       "        vertical-align: middle;\n",
       "    }\n",
       "\n",
       "    .dataframe tbody tr th {\n",
       "        vertical-align: top;\n",
       "    }\n",
       "\n",
       "    .dataframe thead th {\n",
       "        text-align: right;\n",
       "    }\n",
       "</style>\n",
       "<table border=\"1\" class=\"dataframe\">\n",
       "  <thead>\n",
       "    <tr style=\"text-align: right;\">\n",
       "      <th></th>\n",
       "      <th>Year</th>\n",
       "      <th>Reporter</th>\n",
       "      <th>Commodity</th>\n",
       "      <th>Trade Value (US$)</th>\n",
       "    </tr>\n",
       "  </thead>\n",
       "  <tbody>\n",
       "    <tr>\n",
       "      <th>0</th>\n",
       "      <td>2015</td>\n",
       "      <td>Albania</td>\n",
       "      <td>Office machines and automatic data-processing ...</td>\n",
       "      <td>2148149</td>\n",
       "    </tr>\n",
       "    <tr>\n",
       "      <th>1</th>\n",
       "      <td>2015</td>\n",
       "      <td>Algeria</td>\n",
       "      <td>Office machines and automatic data-processing ...</td>\n",
       "      <td>120385</td>\n",
       "    </tr>\n",
       "    <tr>\n",
       "      <th>2</th>\n",
       "      <td>2015</td>\n",
       "      <td>Andorra</td>\n",
       "      <td>Office machines and automatic data-processing ...</td>\n",
       "      <td>1130779</td>\n",
       "    </tr>\n",
       "    <tr>\n",
       "      <th>3</th>\n",
       "      <td>2015</td>\n",
       "      <td>Angola</td>\n",
       "      <td>Office machines and automatic data-processing ...</td>\n",
       "      <td>2597079</td>\n",
       "    </tr>\n",
       "    <tr>\n",
       "      <th>4</th>\n",
       "      <td>2015</td>\n",
       "      <td>Antigua and Barbuda</td>\n",
       "      <td>Office machines and automatic data-processing ...</td>\n",
       "      <td>123926</td>\n",
       "    </tr>\n",
       "  </tbody>\n",
       "</table>\n",
       "</div>"
      ],
      "text/plain": [
       "   Year             Reporter  \\\n",
       "0  2015              Albania   \n",
       "1  2015              Algeria   \n",
       "2  2015              Andorra   \n",
       "3  2015               Angola   \n",
       "4  2015  Antigua and Barbuda   \n",
       "\n",
       "                                           Commodity  Trade Value (US$)  \n",
       "0  Office machines and automatic data-processing ...            2148149  \n",
       "1  Office machines and automatic data-processing ...             120385  \n",
       "2  Office machines and automatic data-processing ...            1130779  \n",
       "3  Office machines and automatic data-processing ...            2597079  \n",
       "4  Office machines and automatic data-processing ...             123926  "
      ]
     },
     "execution_count": 14,
     "metadata": {},
     "output_type": "execute_result"
    }
   ],
   "source": [
    "world = pd.read_csv('comtrade (4).csv')[['Year', 'Reporter', 'Commodity', 'Trade Value (US$)']]\n",
    "world.head()"
   ]
  },
  {
   "cell_type": "code",
   "execution_count": 16,
   "metadata": {},
   "outputs": [
    {
     "data": {
      "text/plain": [
       "array(['Office machines and automatic data-processing machines',\n",
       "       'Telecommunications and sound-recording and reproducing apparatus and equipment',\n",
       "       'Electrical machinery, apparatus and appliances, n.e.s., and electrical parts thereof (including non-electrical counterparts, n.e.s., of electrical household-type equipment)',\n",
       "       'Articles of apparel and clothing accessories',\n",
       "       'Miscellaneous manufactured articles, n.e.s.',\n",
       "       'Metalliferous ores and metal scrap',\n",
       "       'Petroleum, petroleum products and related materials',\n",
       "       'Road vehicles (including air-cushion vehicles)',\n",
       "       'Professional, scientific and controlling instruments and apparatus, n.e.s.'],\n",
       "      dtype=object)"
      ]
     },
     "execution_count": 16,
     "metadata": {},
     "output_type": "execute_result"
    }
   ],
   "source": [
    "for f in files:\n",
    "    df = pd.read_csv(f)[['Year', 'Reporter', 'Commodity', 'Trade Value (US$)']]\n",
    "    world = pd.concat([world, df])\n",
    "\n",
    "world.Commodity.unique()"
   ]
  },
  {
   "cell_type": "code",
   "execution_count": 18,
   "metadata": {},
   "outputs": [],
   "source": [
    "world.to_excel('world.xlsx')"
   ]
  },
  {
   "cell_type": "code",
   "execution_count": 19,
   "metadata": {},
   "outputs": [
    {
     "data": {
      "text/plain": [
       "Index(['Year', 'Reporter', 'Commodity', 'Trade Value (US$)'], dtype='object')"
      ]
     },
     "execution_count": 19,
     "metadata": {},
     "output_type": "execute_result"
    }
   ],
   "source": [
    "world.columns"
   ]
  },
  {
   "cell_type": "code",
   "execution_count": null,
   "metadata": {},
   "outputs": [],
   "source": []
  }
 ],
 "metadata": {
  "kernelspec": {
   "display_name": "Python 3",
   "language": "python",
   "name": "python3"
  },
  "language_info": {
   "codemirror_mode": {
    "name": "ipython",
    "version": 3
   },
   "file_extension": ".py",
   "mimetype": "text/x-python",
   "name": "python",
   "nbconvert_exporter": "python",
   "pygments_lexer": "ipython3",
   "version": "3.8.3"
  }
 },
 "nbformat": 4,
 "nbformat_minor": 4
}
